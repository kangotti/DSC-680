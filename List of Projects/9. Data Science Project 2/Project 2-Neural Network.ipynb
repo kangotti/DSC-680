{
 "cells": [
  {
   "cell_type": "code",
   "execution_count": 1,
   "metadata": {},
   "outputs": [],
   "source": [
    "import numpy as np\n",
    "import pandas as pd\n",
    "import matplotlib.pyplot as plt\n",
    "import plotly.express as px\n",
    "import plotly.graph_objects as go\n",
    "import pandas as pd\n",
    "from sklearn import datasets, linear_model\n",
    "from sklearn.model_selection import train_test_split\n",
    "from matplotlib import pyplot as plt\n",
    "from kmodes.kmodes import KModes\n",
    "import seaborn as sns\n",
    "from scipy import stats\n",
    "from sklearn.linear_model import LinearRegression\n",
    "from sklearn import preprocessing\n",
    "import sklearn\n",
    "from sklearn import svm\n",
    "from sklearn.preprocessing import PowerTransformer\n",
    "from sklearn.datasets import load_digits\n",
    "from sklearn.preprocessing import StandardScaler\n",
    "%matplotlib inline\n",
    "import keras\n",
    "from keras.layers import Embedding\n",
    "from random import randrange"
   ]
  },
  {
   "cell_type": "code",
   "execution_count": 4,
   "metadata": {},
   "outputs": [],
   "source": [
    "df2 = pd.read_csv(\"ks-projects-201801.csv\", sep=\",\", header=None, engine='python') "
   ]
  },
  {
   "cell_type": "code",
   "execution_count": 5,
   "metadata": {
    "scrolled": true
   },
   "outputs": [],
   "source": [
    "header = df2.iloc[0]\n",
    "# take the rest of your data minus the header row\n",
    "df2 = df2[1:]\n",
    "# set the header row as the df header\n",
    "df2.columns = header\n",
    "# pd.set_option('display.max_rows', 7500)\n",
    "# pd.set_option('display.max_columns', 106)\n",
    "#df2.head(5)"
   ]
  },
  {
   "cell_type": "code",
   "execution_count": 6,
   "metadata": {},
   "outputs": [
    {
     "data": {
      "text/plain": [
       "0\n",
       "ID                     0\n",
       "name                   4\n",
       "category               0\n",
       "main_category          0\n",
       "currency               0\n",
       "deadline               0\n",
       "goal                   0\n",
       "launched               0\n",
       "pledged                0\n",
       "state                  0\n",
       "backers                0\n",
       "country                0\n",
       "usd_pledged         3797\n",
       "usd_pledged_real       0\n",
       "usd_goal_real          0\n",
       "dtype: int64"
      ]
     },
     "execution_count": 6,
     "metadata": {},
     "output_type": "execute_result"
    }
   ],
   "source": [
    "df2.isnull().sum()"
   ]
  },
  {
   "cell_type": "code",
   "execution_count": 7,
   "metadata": {
    "scrolled": true
   },
   "outputs": [],
   "source": [
    "df2 = df2.dropna(axis=0)\n",
    "#df3.head(5)"
   ]
  },
  {
   "cell_type": "code",
   "execution_count": 8,
   "metadata": {},
   "outputs": [
    {
     "data": {
      "text/plain": [
       "0\n",
       "ID                  0\n",
       "name                0\n",
       "category            0\n",
       "main_category       0\n",
       "currency            0\n",
       "deadline            0\n",
       "goal                0\n",
       "launched            0\n",
       "pledged             0\n",
       "state               0\n",
       "backers             0\n",
       "country             0\n",
       "usd_pledged         0\n",
       "usd_pledged_real    0\n",
       "usd_goal_real       0\n",
       "dtype: int64"
      ]
     },
     "execution_count": 8,
     "metadata": {},
     "output_type": "execute_result"
    }
   ],
   "source": [
    "# Cleaning Check\n",
    "df2.isnull().sum()"
   ]
  },
  {
   "cell_type": "code",
   "execution_count": 9,
   "metadata": {},
   "outputs": [],
   "source": [
    "df4=df2"
   ]
  },
  {
   "cell_type": "code",
   "execution_count": 10,
   "metadata": {},
   "outputs": [],
   "source": [
    "le = preprocessing.LabelEncoder()\n",
    "df4['backers'] = le.fit_transform(df4.backers.values)\n",
    "df4['goal'] = le.fit_transform(df4.goal.values)\n",
    "df4['pledged'] = le.fit_transform(df4.pledged.values)\n",
    "df4['usd_pledged'] = le.fit_transform(df4.usd_pledged.values)\n",
    "df4['usd_pledged_real'] = le.fit_transform(df4.usd_pledged_real.values)\n",
    "df4['usd_goal_real'] = le.fit_transform(df4.usd_goal_real.values)\n",
    "df4['state'] = le.fit_transform(df4.state.values) \n",
    "df4['country'] = le.fit_transform(df4.country.values) \n",
    "df4['category'] = le.fit_transform(df4.category.values) \n",
    "df4['main_category'] = le.fit_transform(df4.main_category.values) \n",
    "df4['currency'] = le.fit_transform(df4.currency.values)\n",
    "df4['ID'] = le.fit_transform(df4.ID.values)"
   ]
  },
  {
   "cell_type": "code",
   "execution_count": null,
   "metadata": {},
   "outputs": [],
   "source": [
    "# Neural Network"
   ]
  },
  {
   "cell_type": "code",
   "execution_count": 33,
   "metadata": {
    "scrolled": true
   },
   "outputs": [
    {
     "data": {
      "text/html": [
       "<div>\n",
       "<style scoped>\n",
       "    .dataframe tbody tr th:only-of-type {\n",
       "        vertical-align: middle;\n",
       "    }\n",
       "\n",
       "    .dataframe tbody tr th {\n",
       "        vertical-align: top;\n",
       "    }\n",
       "\n",
       "    .dataframe thead th {\n",
       "        text-align: right;\n",
       "    }\n",
       "</style>\n",
       "<table border=\"1\" class=\"dataframe\">\n",
       "  <thead>\n",
       "    <tr style=\"text-align: right;\">\n",
       "      <th></th>\n",
       "      <th>ID</th>\n",
       "      <th>category</th>\n",
       "      <th>main_category</th>\n",
       "      <th>currency</th>\n",
       "      <th>goal</th>\n",
       "      <th>pledged</th>\n",
       "      <th>state</th>\n",
       "      <th>backers</th>\n",
       "      <th>country</th>\n",
       "      <th>usd_pledged</th>\n",
       "      <th>usd_pledged_real</th>\n",
       "      <th>usd_goal_real</th>\n",
       "    </tr>\n",
       "  </thead>\n",
       "  <tbody>\n",
       "    <tr>\n",
       "      <th>1</th>\n",
       "      <td>0</td>\n",
       "      <td>108</td>\n",
       "      <td>12</td>\n",
       "      <td>5</td>\n",
       "      <td>7</td>\n",
       "      <td>0</td>\n",
       "      <td>1</td>\n",
       "      <td>0</td>\n",
       "      <td>9</td>\n",
       "      <td>0</td>\n",
       "      <td>0</td>\n",
       "      <td>9237</td>\n",
       "    </tr>\n",
       "    <tr>\n",
       "      <th>2</th>\n",
       "      <td>1</td>\n",
       "      <td>93</td>\n",
       "      <td>6</td>\n",
       "      <td>13</td>\n",
       "      <td>3913</td>\n",
       "      <td>24896</td>\n",
       "      <td>1</td>\n",
       "      <td>670</td>\n",
       "      <td>21</td>\n",
       "      <td>231</td>\n",
       "      <td>41682</td>\n",
       "      <td>23175</td>\n",
       "    </tr>\n",
       "    <tr>\n",
       "      <th>3</th>\n",
       "      <td>2</td>\n",
       "      <td>93</td>\n",
       "      <td>6</td>\n",
       "      <td>13</td>\n",
       "      <td>5330</td>\n",
       "      <td>22380</td>\n",
       "      <td>1</td>\n",
       "      <td>2018</td>\n",
       "      <td>21</td>\n",
       "      <td>34037</td>\n",
       "      <td>37381</td>\n",
       "      <td>32144</td>\n",
       "    </tr>\n",
       "    <tr>\n",
       "      <th>4</th>\n",
       "      <td>3</td>\n",
       "      <td>90</td>\n",
       "      <td>10</td>\n",
       "      <td>13</td>\n",
       "      <td>5734</td>\n",
       "      <td>1</td>\n",
       "      <td>1</td>\n",
       "      <td>1</td>\n",
       "      <td>21</td>\n",
       "      <td>52</td>\n",
       "      <td>54</td>\n",
       "      <td>34537</td>\n",
       "    </tr>\n",
       "    <tr>\n",
       "      <th>5</th>\n",
       "      <td>4</td>\n",
       "      <td>55</td>\n",
       "      <td>6</td>\n",
       "      <td>13</td>\n",
       "      <td>2406</td>\n",
       "      <td>7559</td>\n",
       "      <td>0</td>\n",
       "      <td>550</td>\n",
       "      <td>21</td>\n",
       "      <td>11241</td>\n",
       "      <td>12325</td>\n",
       "      <td>14285</td>\n",
       "    </tr>\n",
       "  </tbody>\n",
       "</table>\n",
       "</div>"
      ],
      "text/plain": [
       "0  ID  category  main_category  currency  goal  pledged  state  backers  \\\n",
       "1   0       108             12         5     7        0      1        0   \n",
       "2   1        93              6        13  3913    24896      1      670   \n",
       "3   2        93              6        13  5330    22380      1     2018   \n",
       "4   3        90             10        13  5734        1      1        1   \n",
       "5   4        55              6        13  2406     7559      0      550   \n",
       "\n",
       "0  country  usd_pledged  usd_pledged_real  usd_goal_real  \n",
       "1        9            0                 0           9237  \n",
       "2       21          231             41682          23175  \n",
       "3       21        34037             37381          32144  \n",
       "4       21           52                54          34537  \n",
       "5       21        11241             12325          14285  "
      ]
     },
     "execution_count": 33,
     "metadata": {},
     "output_type": "execute_result"
    }
   ],
   "source": [
    "df8 = df4.drop(columns = ['name', 'deadline', 'launched'], axis = 1)\n",
    "df8.head(5)"
   ]
  },
  {
   "cell_type": "code",
   "execution_count": 34,
   "metadata": {},
   "outputs": [],
   "source": [
    "df8 = df8[['ID','category', 'main_category', 'currency', 'goal', 'pledged', 'backers', 'country', 'usd_pledged', 'usd_pledged_real', 'usd_goal_real', 'state']]"
   ]
  },
  {
   "cell_type": "code",
   "execution_count": 35,
   "metadata": {},
   "outputs": [
    {
     "data": {
      "text/html": [
       "<div>\n",
       "<style scoped>\n",
       "    .dataframe tbody tr th:only-of-type {\n",
       "        vertical-align: middle;\n",
       "    }\n",
       "\n",
       "    .dataframe tbody tr th {\n",
       "        vertical-align: top;\n",
       "    }\n",
       "\n",
       "    .dataframe thead th {\n",
       "        text-align: right;\n",
       "    }\n",
       "</style>\n",
       "<table border=\"1\" class=\"dataframe\">\n",
       "  <thead>\n",
       "    <tr style=\"text-align: right;\">\n",
       "      <th></th>\n",
       "      <th>ID</th>\n",
       "      <th>category</th>\n",
       "      <th>main_category</th>\n",
       "      <th>currency</th>\n",
       "      <th>goal</th>\n",
       "      <th>pledged</th>\n",
       "      <th>backers</th>\n",
       "      <th>country</th>\n",
       "      <th>usd_pledged</th>\n",
       "      <th>usd_pledged_real</th>\n",
       "      <th>usd_goal_real</th>\n",
       "      <th>state</th>\n",
       "    </tr>\n",
       "  </thead>\n",
       "  <tbody>\n",
       "    <tr>\n",
       "      <th>1</th>\n",
       "      <td>0</td>\n",
       "      <td>108</td>\n",
       "      <td>12</td>\n",
       "      <td>5</td>\n",
       "      <td>7</td>\n",
       "      <td>0</td>\n",
       "      <td>0</td>\n",
       "      <td>9</td>\n",
       "      <td>0</td>\n",
       "      <td>0</td>\n",
       "      <td>9237</td>\n",
       "      <td>1</td>\n",
       "    </tr>\n",
       "    <tr>\n",
       "      <th>2</th>\n",
       "      <td>1</td>\n",
       "      <td>93</td>\n",
       "      <td>6</td>\n",
       "      <td>13</td>\n",
       "      <td>3913</td>\n",
       "      <td>24896</td>\n",
       "      <td>670</td>\n",
       "      <td>21</td>\n",
       "      <td>231</td>\n",
       "      <td>41682</td>\n",
       "      <td>23175</td>\n",
       "      <td>1</td>\n",
       "    </tr>\n",
       "    <tr>\n",
       "      <th>3</th>\n",
       "      <td>2</td>\n",
       "      <td>93</td>\n",
       "      <td>6</td>\n",
       "      <td>13</td>\n",
       "      <td>5330</td>\n",
       "      <td>22380</td>\n",
       "      <td>2018</td>\n",
       "      <td>21</td>\n",
       "      <td>34037</td>\n",
       "      <td>37381</td>\n",
       "      <td>32144</td>\n",
       "      <td>1</td>\n",
       "    </tr>\n",
       "    <tr>\n",
       "      <th>4</th>\n",
       "      <td>3</td>\n",
       "      <td>90</td>\n",
       "      <td>10</td>\n",
       "      <td>13</td>\n",
       "      <td>5734</td>\n",
       "      <td>1</td>\n",
       "      <td>1</td>\n",
       "      <td>21</td>\n",
       "      <td>52</td>\n",
       "      <td>54</td>\n",
       "      <td>34537</td>\n",
       "      <td>1</td>\n",
       "    </tr>\n",
       "    <tr>\n",
       "      <th>5</th>\n",
       "      <td>4</td>\n",
       "      <td>55</td>\n",
       "      <td>6</td>\n",
       "      <td>13</td>\n",
       "      <td>2406</td>\n",
       "      <td>7559</td>\n",
       "      <td>550</td>\n",
       "      <td>21</td>\n",
       "      <td>11241</td>\n",
       "      <td>12325</td>\n",
       "      <td>14285</td>\n",
       "      <td>0</td>\n",
       "    </tr>\n",
       "  </tbody>\n",
       "</table>\n",
       "</div>"
      ],
      "text/plain": [
       "0  ID  category  main_category  currency  goal  pledged  backers  country  \\\n",
       "1   0       108             12         5     7        0        0        9   \n",
       "2   1        93              6        13  3913    24896      670       21   \n",
       "3   2        93              6        13  5330    22380     2018       21   \n",
       "4   3        90             10        13  5734        1        1       21   \n",
       "5   4        55              6        13  2406     7559      550       21   \n",
       "\n",
       "0  usd_pledged  usd_pledged_real  usd_goal_real  state  \n",
       "1            0                 0           9237      1  \n",
       "2          231             41682          23175      1  \n",
       "3        34037             37381          32144      1  \n",
       "4           52                54          34537      1  \n",
       "5        11241             12325          14285      0  "
      ]
     },
     "execution_count": 35,
     "metadata": {},
     "output_type": "execute_result"
    }
   ],
   "source": [
    "df8.head(5)"
   ]
  },
  {
   "cell_type": "code",
   "execution_count": 36,
   "metadata": {},
   "outputs": [],
   "source": [
    "dataset = df8.values"
   ]
  },
  {
   "cell_type": "code",
   "execution_count": 37,
   "metadata": {},
   "outputs": [],
   "source": [
    "X = dataset[:,0:11]"
   ]
  },
  {
   "cell_type": "code",
   "execution_count": 38,
   "metadata": {},
   "outputs": [],
   "source": [
    "Y = dataset[:,11]"
   ]
  },
  {
   "cell_type": "code",
   "execution_count": 39,
   "metadata": {},
   "outputs": [],
   "source": [
    "min_max_scaler = preprocessing.MinMaxScaler()\n",
    "X_scale = min_max_scaler.fit_transform(X)"
   ]
  },
  {
   "cell_type": "code",
   "execution_count": 40,
   "metadata": {},
   "outputs": [
    {
     "data": {
      "text/plain": [
       "array([[0.00000000e+00, 6.83544304e-01, 8.57142857e-01, ...,\n",
       "        0.00000000e+00, 0.00000000e+00, 1.84625532e-01],\n",
       "       [2.66766971e-06, 5.88607595e-01, 4.28571429e-01, ...,\n",
       "        2.42003918e-03, 3.95532444e-01, 4.63212808e-01],\n",
       "       [5.33533942e-06, 5.88607595e-01, 4.28571429e-01, ...,\n",
       "        3.56583869e-01, 3.54719022e-01, 6.42481661e-01],\n",
       "       ...,\n",
       "       [9.99994665e-01, 5.88607595e-01, 4.28571429e-01, ...,\n",
       "        3.10927891e-01, 3.08620068e-01, 1.73152645e-01],\n",
       "       [9.99997332e-01, 8.73417722e-01, 9.28571429e-01, ...,\n",
       "        3.11776476e-01, 3.09360232e-01, 1.73152645e-01],\n",
       "       [1.00000000e+00, 6.20253165e-01, 0.00000000e+00, ...,\n",
       "        7.29007993e-01, 7.29783075e-01, 2.96696048e-01]])"
      ]
     },
     "execution_count": 40,
     "metadata": {},
     "output_type": "execute_result"
    }
   ],
   "source": [
    "X_scale"
   ]
  },
  {
   "cell_type": "code",
   "execution_count": 41,
   "metadata": {},
   "outputs": [],
   "source": [
    "X_train, X_val_and_test, Y_train, Y_val_and_test = train_test_split(X_scale, Y, test_size=0.3)"
   ]
  },
  {
   "cell_type": "code",
   "execution_count": 42,
   "metadata": {},
   "outputs": [],
   "source": [
    "X_val, X_test, Y_val, Y_test = train_test_split(X_val_and_test, Y_val_and_test, test_size=0.5)"
   ]
  },
  {
   "cell_type": "code",
   "execution_count": 43,
   "metadata": {},
   "outputs": [
    {
     "name": "stdout",
     "output_type": "stream",
     "text": [
      "(262402, 11) (56229, 11) (56229, 11) (262402,) (56229,) (56229,)\n"
     ]
    }
   ],
   "source": [
    "print(X_train.shape, X_val.shape, X_test.shape, Y_train.shape, Y_val.shape, Y_test.shape)"
   ]
  },
  {
   "cell_type": "code",
   "execution_count": 44,
   "metadata": {},
   "outputs": [],
   "source": [
    "from keras.models import Sequential\n",
    "from keras.layers import Dense"
   ]
  },
  {
   "cell_type": "code",
   "execution_count": 45,
   "metadata": {},
   "outputs": [],
   "source": [
    "model = Sequential([Dense(32, activation='relu', input_shape=(11,)),\n",
    "                    Dense(32, activation='relu'), Dense(1, activation='sigmoid'),])"
   ]
  },
  {
   "cell_type": "code",
   "execution_count": 46,
   "metadata": {},
   "outputs": [],
   "source": [
    "model.compile(optimizer='sgd',\n",
    "              loss='binary_crossentropy',\n",
    "              metrics=['accuracy'])"
   ]
  },
  {
   "cell_type": "code",
   "execution_count": 47,
   "metadata": {},
   "outputs": [
    {
     "name": "stdout",
     "output_type": "stream",
     "text": [
      "Epoch 1/25\n",
      "8201/8201 [==============================] - 14s 2ms/step - loss: nan - accuracy: 0.1342 - val_loss: nan - val_accuracy: 0.1046\n",
      "Epoch 2/25\n",
      "8201/8201 [==============================] - 12s 1ms/step - loss: nan - accuracy: 0.1032 - val_loss: nan - val_accuracy: 0.1046\n",
      "Epoch 3/25\n",
      "8201/8201 [==============================] - 13s 2ms/step - loss: nan - accuracy: 0.1028 - val_loss: nan - val_accuracy: 0.1046\n",
      "Epoch 4/25\n",
      "8201/8201 [==============================] - 13s 2ms/step - loss: nan - accuracy: 0.1025 - val_loss: nan - val_accuracy: 0.1046\n",
      "Epoch 5/25\n",
      "8201/8201 [==============================] - 13s 2ms/step - loss: nan - accuracy: 0.1036 - val_loss: nan - val_accuracy: 0.1046\n",
      "Epoch 6/25\n",
      "8201/8201 [==============================] - 13s 2ms/step - loss: nan - accuracy: 0.1042 - val_loss: nan - val_accuracy: 0.1046\n",
      "Epoch 7/25\n",
      "8201/8201 [==============================] - 12s 2ms/step - loss: nan - accuracy: 0.1028 - val_loss: nan - val_accuracy: 0.1046\n",
      "Epoch 8/25\n",
      "8201/8201 [==============================] - 13s 2ms/step - loss: nan - accuracy: 0.1041 - val_loss: nan - val_accuracy: 0.1046\n",
      "Epoch 9/25\n",
      "8201/8201 [==============================] - 12s 2ms/step - loss: nan - accuracy: 0.1037 - val_loss: nan - val_accuracy: 0.1046\n",
      "Epoch 10/25\n",
      "8201/8201 [==============================] - 12s 1ms/step - loss: nan - accuracy: 0.1023 - val_loss: nan - val_accuracy: 0.1046\n",
      "Epoch 11/25\n",
      "8201/8201 [==============================] - 11s 1ms/step - loss: nan - accuracy: 0.1017 - val_loss: nan - val_accuracy: 0.1046\n",
      "Epoch 12/25\n",
      "8201/8201 [==============================] - 12s 1ms/step - loss: nan - accuracy: 0.1035 - val_loss: nan - val_accuracy: 0.1046\n",
      "Epoch 13/25\n",
      "8201/8201 [==============================] - 13s 2ms/step - loss: nan - accuracy: 0.1033 - val_loss: nan - val_accuracy: 0.1046\n",
      "Epoch 14/25\n",
      "8201/8201 [==============================] - 13s 2ms/step - loss: nan - accuracy: 0.1039 - val_loss: nan - val_accuracy: 0.1046\n",
      "Epoch 15/25\n",
      "8201/8201 [==============================] - 13s 2ms/step - loss: nan - accuracy: 0.1027 - val_loss: nan - val_accuracy: 0.1046\n",
      "Epoch 16/25\n",
      "8201/8201 [==============================] - 13s 2ms/step - loss: nan - accuracy: 0.1033 - val_loss: nan - val_accuracy: 0.1046\n",
      "Epoch 17/25\n",
      "8201/8201 [==============================] - 13s 2ms/step - loss: nan - accuracy: 0.1043 - val_loss: nan - val_accuracy: 0.1046\n",
      "Epoch 18/25\n",
      "8201/8201 [==============================] - 13s 2ms/step - loss: nan - accuracy: 0.1032 - val_loss: nan - val_accuracy: 0.1046\n",
      "Epoch 19/25\n",
      "8201/8201 [==============================] - 13s 2ms/step - loss: nan - accuracy: 0.1025 - val_loss: nan - val_accuracy: 0.1046\n",
      "Epoch 20/25\n",
      "8201/8201 [==============================] - 12s 1ms/step - loss: nan - accuracy: 0.1032 - val_loss: nan - val_accuracy: 0.1046\n",
      "Epoch 21/25\n",
      "8201/8201 [==============================] - 11s 1ms/step - loss: nan - accuracy: 0.1034 - val_loss: nan - val_accuracy: 0.1046\n",
      "Epoch 22/25\n",
      "8201/8201 [==============================] - 12s 1ms/step - loss: nan - accuracy: 0.1030 - val_loss: nan - val_accuracy: 0.1046\n",
      "Epoch 23/25\n",
      "8201/8201 [==============================] - 13s 2ms/step - loss: nan - accuracy: 0.1035 - val_loss: nan - val_accuracy: 0.1046\n",
      "Epoch 24/25\n",
      "8201/8201 [==============================] - 13s 2ms/step - loss: nan - accuracy: 0.1041 - val_loss: nan - val_accuracy: 0.1046\n",
      "Epoch 25/25\n",
      "8201/8201 [==============================] - 13s 2ms/step - loss: nan - accuracy: 0.1027 - val_loss: nan - val_accuracy: 0.1046\n"
     ]
    }
   ],
   "source": [
    "hist = model.fit(X_train, Y_train,\n",
    "                 batch_size=32, epochs=25,\n",
    "                 validation_data=(X_val, Y_val))"
   ]
  },
  {
   "cell_type": "code",
   "execution_count": 48,
   "metadata": {},
   "outputs": [
    {
     "name": "stdout",
     "output_type": "stream",
     "text": [
      "1758/1758 [==============================] - 2s 1ms/step - loss: nan - accuracy: 0.1041\n"
     ]
    },
    {
     "data": {
      "text/plain": [
       "0.1041099801659584"
      ]
     },
     "execution_count": 48,
     "metadata": {},
     "output_type": "execute_result"
    }
   ],
   "source": [
    "model.evaluate(X_test, Y_test)[1]"
   ]
  },
  {
   "cell_type": "code",
   "execution_count": 54,
   "metadata": {},
   "outputs": [
    {
     "data": {
      "image/png": "[encoded data removed]",
      "text/plain": [
       "<Figure size 432x288 with 1 Axes>"
      ]
     },
     "metadata": {
      "needs_background": "light"
     },
     "output_type": "display_data"
    }
   ],
   "source": [
    "plt.plot(hist.history['loss'])\n",
    "plt.plot(hist.history['val_loss'])\n",
    "plt.title('Model loss')\n",
    "plt.ylabel('Loss')\n",
    "plt.xlabel('Epoch')\n",
    "plt.legend(['Train', 'Val'], loc='upper right')\n",
    "plt.show()"
   ]
  },
  {
   "cell_type": "code",
   "execution_count": 55,
   "metadata": {},
   "outputs": [
    {
     "data": {
      "image/png": "[encoded data removed]",
      "text/plain": [
       "<Figure size 432x288 with 1 Axes>"
      ]
     },
     "metadata": {
      "needs_background": "light"
     },
     "output_type": "display_data"
    }
   ],
   "source": [
    "plt.plot(hist.history['accuracy'])\n",
    "plt.plot(hist.history['val_accuracy'])\n",
    "plt.title('Model accuracy')\n",
    "plt.ylabel('Accuracy')\n",
    "plt.xlabel('Epoch')\n",
    "plt.legend(['Train', 'Val'], loc='upper right')\n",
    "plt.show()"
   ]
  },
  {
   "cell_type": "code",
   "execution_count": 62,
   "metadata": {},
   "outputs": [],
   "source": [
    "model_2 = Sequential([Dense(1000, activation='relu', input_shape=(11,)), Dense(1000, activation='relu'),\n",
    "                      Dense(1000, activation='relu'), Dense(1000, activation='relu'),    \n",
    "                      Dense(1, activation='sigmoid'),])"
   ]
  },
  {
   "cell_type": "code",
   "execution_count": 63,
   "metadata": {},
   "outputs": [],
   "source": [
    "model_2.compile(optimizer='adam',              \n",
    "                loss='binary_crossentropy',              \n",
    "                metrics=['accuracy'])"
   ]
  },
  {
   "cell_type": "code",
   "execution_count": 64,
   "metadata": {
    "scrolled": true
   },
   "outputs": [
    {
     "name": "stdout",
     "output_type": "stream",
     "text": [
      "Epoch 1/25\n",
      "8201/8201 [==============================] - 226s 27ms/step - loss: -9572664740823536.0000 - accuracy: 0.5274 - val_loss: -224054803016187904.0000 - val_accuracy: 0.5270\n",
      "Epoch 2/25\n",
      "8201/8201 [==============================] - 224s 27ms/step - loss: -627595609818328704.0000 - accuracy: 0.5274 - val_loss: -3235560904602943488.0000 - val_accuracy: 0.5270\n",
      "Epoch 3/25\n",
      "8201/8201 [==============================] - 224s 27ms/step - loss: -5501801330097037312.0000 - accuracy: 0.5280 - val_loss: -16469947511293870080.0000 - val_accuracy: 0.5270\n",
      "Epoch 4/25\n",
      "8201/8201 [==============================] - 223s 27ms/step - loss: -23686421108824608768.0000 - accuracy: 0.5287 - val_loss: -53969026872082694144.0000 - val_accuracy: 0.5270\n",
      "Epoch 5/25\n",
      "8201/8201 [==============================] - 225s 27ms/step - loss: -71387675768887582720.0000 - accuracy: 0.5275 - val_loss: -138405995938861547520.0000 - val_accuracy: 0.5270\n",
      "Epoch 6/25\n",
      "8201/8201 [==============================] - 242s 29ms/step - loss: -173918564324379459584.0000 - accuracy: 0.5279 - val_loss: -302852121582528102400.0000 - val_accuracy: 0.5270\n",
      "Epoch 7/25\n",
      "8201/8201 [==============================] - 228s 28ms/step - loss: -366330017944465375232.0000 - accuracy: 0.5265 - val_loss: -591692348455655571456.0000 - val_accuracy: 0.5270\n",
      "Epoch 8/25\n",
      "8201/8201 [==============================] - 226s 28ms/step - loss: -701063551562018455552.0000 - accuracy: 0.5263 - val_loss: -1062884063112828289024.0000 - val_accuracy: 0.5270\n",
      "Epoch 9/25\n",
      "8201/8201 [==============================] - 226s 28ms/step - loss: -1235482527049732063232.0000 - accuracy: 0.5269 - val_loss: -1791757111749351833600.0000 - val_accuracy: 0.5270\n",
      "Epoch 10/25\n",
      "8201/8201 [==============================] - 227s 28ms/step - loss: -2053884278228071219200.0000 - accuracy: 0.5274 - val_loss: -2869722111533127827456.0000 - val_accuracy: 0.5270\n",
      "Epoch 11/25\n",
      "8201/8201 [==============================] - 230s 28ms/step - loss: -3239905359478105047040.0000 - accuracy: 0.5269 - val_loss: -4402480867887099674624.0000 - val_accuracy: 0.5270\n",
      "Epoch 12/25\n",
      "8201/8201 [==============================] - 227s 28ms/step - loss: -4931136185203524894720.0000 - accuracy: 0.5267 - val_loss: -6521688516093072637952.0000 - val_accuracy: 0.5270\n",
      "Epoch 13/25\n",
      "8201/8201 [==============================] - 227s 28ms/step - loss: -7202162145628691365888.0000 - accuracy: 0.5270 - val_loss: -9386358433269220900864.0000 - val_accuracy: 0.5270\n",
      "Epoch 14/25\n",
      "8201/8201 [==============================] - 229s 28ms/step - loss: -10280468150011648016384.0000 - accuracy: 0.5282 - val_loss: -13163233580869169971200.0000 - val_accuracy: 0.5270\n",
      "Epoch 15/25\n",
      "8201/8201 [==============================] - 230s 28ms/step - loss: -14376374311324361949184.0000 - accuracy: 0.5260 - val_loss: -18054138272593901256704.0000 - val_accuracy: 0.5270\n",
      "Epoch 16/25\n",
      "8201/8201 [==============================] - 228s 28ms/step - loss: -19581733727268449026048.0000 - accuracy: 0.5272 - val_loss: -24283900083141097816064.0000 - val_accuracy: 0.5270\n",
      "Epoch 17/25\n",
      "8201/8201 [==============================] - 235s 29ms/step - loss: -26355909177995784355840.0000 - accuracy: 0.5267 - val_loss: -32115673345937272471552.0000 - val_accuracy: 0.5270\n",
      "Epoch 18/25\n",
      "8201/8201 [==============================] - 237s 29ms/step - loss: -34660342697758709252096.0000 - accuracy: 0.5270 - val_loss: -41850199436898972205056.0000 - val_accuracy: 0.5270\n",
      "Epoch 19/25\n",
      "8201/8201 [==============================] - 236s 29ms/step - loss: -44998103759827249397760.0000 - accuracy: 0.5263 - val_loss: -53767755375235972464640.0000 - val_accuracy: 0.5270\n",
      "Epoch 20/25\n",
      "8201/8201 [==============================] - 236s 29ms/step - loss: -57384618624940251283456.0000 - accuracy: 0.5281 - val_loss: -68289040416539460763648.0000 - val_accuracy: 0.5270\n",
      "Epoch 21/25\n",
      "8201/8201 [==============================] - 237s 29ms/step - loss: -72761189891137760919552.0000 - accuracy: 0.5268 - val_loss: -85726883598125846495232.0000 - val_accuracy: 0.5270\n",
      "Epoch 22/25\n",
      "8201/8201 [==============================] - 225s 27ms/step - loss: -90835916074569244344320.0000 - accuracy: 0.5281 - val_loss: -106567768255343318007808.0000 - val_accuracy: 0.5270\n",
      "Epoch 23/25\n",
      "8201/8201 [==============================] - 228s 28ms/step - loss: -112493484337649426628608.0000 - accuracy: 0.5276 - val_loss: -131228146749334452436992.0000 - val_accuracy: 0.5270\n",
      "Epoch 24/25\n",
      "8201/8201 [==============================] - 231s 28ms/step - loss: -139269412262617211207680.0000 - accuracy: 0.5261 - val_loss: -160200965080912714792960.0000 - val_accuracy: 0.5270\n",
      "Epoch 25/25\n",
      "8201/8201 [==============================] - 229s 28ms/step - loss: -169868421808051705610240.0000 - accuracy: 0.5272 - val_loss: -194132904127771489337344.0000 - val_accuracy: 0.5270\n"
     ]
    }
   ],
   "source": [
    "hist_2 = model_2.fit(X_train, Y_train,          \n",
    "                     batch_size=32, epochs=25,          \n",
    "                     validation_data=(X_val, Y_val))"
   ]
  },
  {
   "cell_type": "code",
   "execution_count": null,
   "metadata": {},
   "outputs": [],
   "source": [
    "model_2.evaluate(X_test, Y_test)[1]"
   ]
  },
  {
   "cell_type": "code",
   "execution_count": 65,
   "metadata": {},
   "outputs": [
    {
     "data": {
      "image/png": "[encoded data removed]",
      "text/plain": [
       "<Figure size 432x288 with 1 Axes>"
      ]
     },
     "metadata": {
      "needs_background": "light"
     },
     "output_type": "display_data"
    }
   ],
   "source": [
    "plt.plot(hist_2.history['loss'])\n",
    "plt.plot(hist_2.history['val_loss'])\n",
    "plt.title('Model loss')\n",
    "plt.ylabel('Loss')\n",
    "plt.xlabel('Epoch')\n",
    "plt.legend(['Train', 'Val'], loc='upper right')\n",
    "plt.show()"
   ]
  },
  {
   "cell_type": "code",
   "execution_count": 67,
   "metadata": {},
   "outputs": [
    {
     "data": {
      "image/png": "[encoded data removed]",
      "text/plain": [
       "<Figure size 432x288 with 1 Axes>"
      ]
     },
     "metadata": {
      "needs_background": "light"
     },
     "output_type": "display_data"
    }
   ],
   "source": [
    "plt.plot(hist_2.history['accuracy'])\n",
    "plt.plot(hist_2.history['val_accuracy'])\n",
    "plt.title('Model accuracy')\n",
    "plt.ylabel('Accuracy')\n",
    "plt.xlabel('Epoch')\n",
    "plt.legend(['Train', 'Val'], loc='lower right')\n",
    "plt.show()"
   ]
  },
  {
   "cell_type": "code",
   "execution_count": null,
   "metadata": {},
   "outputs": [],
   "source": []
  }
 ],
 "metadata": {
  "kernelspec": {
   "display_name": "Python 3",
   "language": "python",
   "name": "python3"
  },
  "language_info": {
   "codemirror_mode": {
    "name": "ipython",
    "version": 3
   },
   "file_extension": ".py",
   "mimetype": "text/x-python",
   "name": "python",
   "nbconvert_exporter": "python",
   "pygments_lexer": "ipython3",
   "version": "3.8.6"
  }
 },
 "nbformat": 4,
 "nbformat_minor": 4
}
