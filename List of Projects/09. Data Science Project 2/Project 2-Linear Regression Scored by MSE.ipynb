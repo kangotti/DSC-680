{
 "cells": [
  {
   "cell_type": "code",
   "execution_count": 1,
   "metadata": {},
   "outputs": [],
   "source": [
    "import numpy as np\n",
    "import pandas as pd\n",
    "import matplotlib.pyplot as plt\n",
    "import plotly.express as px\n",
    "import plotly.graph_objects as go\n",
    "import pandas as pd\n",
    "from sklearn import datasets, linear_model\n",
    "from sklearn.model_selection import train_test_split\n",
    "from matplotlib import pyplot as plt\n",
    "from kmodes.kmodes import KModes\n",
    "import seaborn as sns\n",
    "from scipy import stats\n",
    "from sklearn.linear_model import LinearRegression\n",
    "from sklearn import preprocessing\n",
    "import sklearn\n",
    "from sklearn import svm\n",
    "from sklearn.preprocessing import PowerTransformer\n",
    "from sklearn.datasets import load_digits\n",
    "from sklearn.preprocessing import StandardScaler\n",
    "%matplotlib inline\n",
    "import keras\n",
    "from keras.layers import Embedding\n",
    "from random import randrange"
   ]
  },
  {
   "cell_type": "code",
   "execution_count": 2,
   "metadata": {},
   "outputs": [],
   "source": [
    "df2 = pd.read_csv(\"ks-projects-201801.csv\", sep=\",\", header=None, engine='python') "
   ]
  },
  {
   "cell_type": "code",
   "execution_count": 3,
   "metadata": {
    "scrolled": true
   },
   "outputs": [],
   "source": [
    "header = df2.iloc[0]\n",
    "# take the rest of your data minus the header row\n",
    "df2 = df2[1:]\n",
    "# set the header row as the df header\n",
    "df2.columns = header\n",
    "# pd.set_option('display.max_rows', 7500)\n",
    "# pd.set_option('display.max_columns', 106)\n",
    "#df2.head(5)"
   ]
  },
  {
   "cell_type": "code",
   "execution_count": 4,
   "metadata": {},
   "outputs": [
    {
     "data": {
      "text/plain": [
       "0\n",
       "ID                     0\n",
       "name                   4\n",
       "category               0\n",
       "main_category          0\n",
       "currency               0\n",
       "deadline               0\n",
       "goal                   0\n",
       "launched               0\n",
       "pledged                0\n",
       "state                  0\n",
       "backers                0\n",
       "country                0\n",
       "usd_pledged         3797\n",
       "usd_pledged_real       0\n",
       "usd_goal_real          0\n",
       "dtype: int64"
      ]
     },
     "execution_count": 4,
     "metadata": {},
     "output_type": "execute_result"
    }
   ],
   "source": [
    "df2.isnull().sum()"
   ]
  },
  {
   "cell_type": "code",
   "execution_count": 5,
   "metadata": {
    "scrolled": true
   },
   "outputs": [],
   "source": [
    "df2 = df2.dropna(axis=0)\n",
    "#df2.head(5)"
   ]
  },
  {
   "cell_type": "code",
   "execution_count": 6,
   "metadata": {},
   "outputs": [
    {
     "data": {
      "text/plain": [
       "0\n",
       "ID                  0\n",
       "name                0\n",
       "category            0\n",
       "main_category       0\n",
       "currency            0\n",
       "deadline            0\n",
       "goal                0\n",
       "launched            0\n",
       "pledged             0\n",
       "state               0\n",
       "backers             0\n",
       "country             0\n",
       "usd_pledged         0\n",
       "usd_pledged_real    0\n",
       "usd_goal_real       0\n",
       "dtype: int64"
      ]
     },
     "execution_count": 6,
     "metadata": {},
     "output_type": "execute_result"
    }
   ],
   "source": [
    "# Cleaning Check\n",
    "df2.isnull().sum()"
   ]
  },
  {
   "cell_type": "code",
   "execution_count": 7,
   "metadata": {},
   "outputs": [],
   "source": [
    "# Linear Regression"
   ]
  },
  {
   "cell_type": "code",
   "execution_count": 8,
   "metadata": {
    "scrolled": true
   },
   "outputs": [
    {
     "data": {
      "text/html": [
       "<div>\n",
       "<style scoped>\n",
       "    .dataframe tbody tr th:only-of-type {\n",
       "        vertical-align: middle;\n",
       "    }\n",
       "\n",
       "    .dataframe tbody tr th {\n",
       "        vertical-align: top;\n",
       "    }\n",
       "\n",
       "    .dataframe thead th {\n",
       "        text-align: right;\n",
       "    }\n",
       "</style>\n",
       "<table border=\"1\" class=\"dataframe\">\n",
       "  <thead>\n",
       "    <tr style=\"text-align: right;\">\n",
       "      <th></th>\n",
       "      <th>ID</th>\n",
       "      <th>name</th>\n",
       "      <th>category</th>\n",
       "      <th>main_category</th>\n",
       "      <th>currency</th>\n",
       "      <th>deadline</th>\n",
       "      <th>goal</th>\n",
       "      <th>launched</th>\n",
       "      <th>pledged</th>\n",
       "      <th>state</th>\n",
       "      <th>backers</th>\n",
       "      <th>country</th>\n",
       "      <th>usd_pledged</th>\n",
       "      <th>usd_pledged_real</th>\n",
       "      <th>usd_goal_real</th>\n",
       "    </tr>\n",
       "  </thead>\n",
       "  <tbody>\n",
       "    <tr>\n",
       "      <th>1</th>\n",
       "      <td>1000002330</td>\n",
       "      <td>The Songs of Adelaide &amp; Abullah</td>\n",
       "      <td>Poetry</td>\n",
       "      <td>Publishing</td>\n",
       "      <td>GBP</td>\n",
       "      <td>10/9/2015</td>\n",
       "      <td>1000</td>\n",
       "      <td>8/11/2015 12:12</td>\n",
       "      <td>0</td>\n",
       "      <td>failed</td>\n",
       "      <td>0</td>\n",
       "      <td>GB</td>\n",
       "      <td>0</td>\n",
       "      <td>0</td>\n",
       "      <td>1533.95</td>\n",
       "    </tr>\n",
       "    <tr>\n",
       "      <th>2</th>\n",
       "      <td>1000003930</td>\n",
       "      <td>Greeting From Earth: ZGAC Arts Capsule For ET</td>\n",
       "      <td>Narrative Film</td>\n",
       "      <td>Film &amp; Video</td>\n",
       "      <td>USD</td>\n",
       "      <td>11/1/2017</td>\n",
       "      <td>30000</td>\n",
       "      <td>9/2/2017 4:43</td>\n",
       "      <td>2421</td>\n",
       "      <td>failed</td>\n",
       "      <td>15</td>\n",
       "      <td>US</td>\n",
       "      <td>100</td>\n",
       "      <td>2421</td>\n",
       "      <td>30000</td>\n",
       "    </tr>\n",
       "    <tr>\n",
       "      <th>3</th>\n",
       "      <td>1000004038</td>\n",
       "      <td>Where is Hank?</td>\n",
       "      <td>Narrative Film</td>\n",
       "      <td>Film &amp; Video</td>\n",
       "      <td>USD</td>\n",
       "      <td>2/26/2013</td>\n",
       "      <td>45000</td>\n",
       "      <td>1/12/2013 0:20</td>\n",
       "      <td>220</td>\n",
       "      <td>failed</td>\n",
       "      <td>3</td>\n",
       "      <td>US</td>\n",
       "      <td>220</td>\n",
       "      <td>220</td>\n",
       "      <td>45000</td>\n",
       "    </tr>\n",
       "    <tr>\n",
       "      <th>4</th>\n",
       "      <td>1000007540</td>\n",
       "      <td>ToshiCapital Rekordz Needs Help to Complete Album</td>\n",
       "      <td>Music</td>\n",
       "      <td>Music</td>\n",
       "      <td>USD</td>\n",
       "      <td>4/16/2012</td>\n",
       "      <td>5000</td>\n",
       "      <td>3/17/2012 3:24</td>\n",
       "      <td>1</td>\n",
       "      <td>failed</td>\n",
       "      <td>1</td>\n",
       "      <td>US</td>\n",
       "      <td>1</td>\n",
       "      <td>1</td>\n",
       "      <td>5000</td>\n",
       "    </tr>\n",
       "    <tr>\n",
       "      <th>5</th>\n",
       "      <td>1000011046</td>\n",
       "      <td>Community Film Project: The Art of Neighborhoo...</td>\n",
       "      <td>Film &amp; Video</td>\n",
       "      <td>Film &amp; Video</td>\n",
       "      <td>USD</td>\n",
       "      <td>8/29/2015</td>\n",
       "      <td>19500</td>\n",
       "      <td>7/4/2015 8:35</td>\n",
       "      <td>1283</td>\n",
       "      <td>canceled</td>\n",
       "      <td>14</td>\n",
       "      <td>US</td>\n",
       "      <td>1283</td>\n",
       "      <td>1283</td>\n",
       "      <td>19500</td>\n",
       "    </tr>\n",
       "  </tbody>\n",
       "</table>\n",
       "</div>"
      ],
      "text/plain": [
       "0          ID                                               name  \\\n",
       "1  1000002330                    The Songs of Adelaide & Abullah   \n",
       "2  1000003930      Greeting From Earth: ZGAC Arts Capsule For ET   \n",
       "3  1000004038                                     Where is Hank?   \n",
       "4  1000007540  ToshiCapital Rekordz Needs Help to Complete Album   \n",
       "5  1000011046  Community Film Project: The Art of Neighborhoo...   \n",
       "\n",
       "0        category main_category currency   deadline   goal         launched  \\\n",
       "1          Poetry    Publishing      GBP  10/9/2015   1000  8/11/2015 12:12   \n",
       "2  Narrative Film  Film & Video      USD  11/1/2017  30000    9/2/2017 4:43   \n",
       "3  Narrative Film  Film & Video      USD  2/26/2013  45000   1/12/2013 0:20   \n",
       "4           Music         Music      USD  4/16/2012   5000   3/17/2012 3:24   \n",
       "5    Film & Video  Film & Video      USD  8/29/2015  19500    7/4/2015 8:35   \n",
       "\n",
       "0 pledged     state backers country usd_pledged usd_pledged_real usd_goal_real  \n",
       "1       0    failed       0      GB           0                0       1533.95  \n",
       "2    2421    failed      15      US         100             2421         30000  \n",
       "3     220    failed       3      US         220              220         45000  \n",
       "4       1    failed       1      US           1                1          5000  \n",
       "5    1283  canceled      14      US        1283             1283         19500  "
      ]
     },
     "execution_count": 8,
     "metadata": {},
     "output_type": "execute_result"
    }
   ],
   "source": [
    "df4 = df2\n",
    "df4.head(5)"
   ]
  },
  {
   "cell_type": "code",
   "execution_count": 9,
   "metadata": {},
   "outputs": [
    {
     "data": {
      "text/plain": [
       "Film & Video    62696\n",
       "Music           49530\n",
       "Publishing      39379\n",
       "Games           35225\n",
       "Technology      32562\n",
       "Design          30066\n",
       "Art             28152\n",
       "Food            24599\n",
       "Fashion         22812\n",
       "Theater         10912\n",
       "Comics          10819\n",
       "Photography     10778\n",
       "Crafts           8809\n",
       "Journalism       4754\n",
       "Dance            3767\n",
       "Name: main_category, dtype: int64"
      ]
     },
     "execution_count": 9,
     "metadata": {},
     "output_type": "execute_result"
    }
   ],
   "source": [
    "df4['main_category'].value_counts()"
   ]
  },
  {
   "cell_type": "code",
   "execution_count": 10,
   "metadata": {
    "scrolled": true
   },
   "outputs": [],
   "source": [
    "le = preprocessing.LabelEncoder()\n",
    "#df4['backers'] = le.fit_transform(df4.backers.values)\n",
    "#df4['goal'] = le.fit_transform(df4.goal.values)\n",
    "#df4['pledged'] = le.fit_transform(df4.pledged.values)\n",
    "#df4['usd_pledged'] = le.fit_transform(df4.usd_pledged.values)\n",
    "#df4['usd_pledged_real'] = le.fit_transform(df4.usd_pledged_real.values)\n",
    "#df4['usd_goal_real'] = le.fit_transform(df4.usd_goal_real.values)\n",
    "df4['state'] = le.fit_transform(df4.state.values) \n",
    "df4['country'] = le.fit_transform(df4.country.values) \n",
    "df4['category'] = le.fit_transform(df4.category.values) \n",
    "df4['main_category'] = le.fit_transform(df4.main_category.values) \n",
    "df4['currency'] = le.fit_transform(df4.currency.values)\n",
    "#df4['ID'] = le.fit_transform(df4.ID.values)"
   ]
  },
  {
   "cell_type": "code",
   "execution_count": 11,
   "metadata": {},
   "outputs": [
    {
     "data": {
      "text/plain": [
       "6     62696\n",
       "10    49530\n",
       "12    39379\n",
       "8     35225\n",
       "13    32562\n",
       "4     30066\n",
       "0     28152\n",
       "7     24599\n",
       "5     22812\n",
       "14    10912\n",
       "1     10819\n",
       "11    10778\n",
       "2      8809\n",
       "9      4754\n",
       "3      3767\n",
       "Name: main_category, dtype: int64"
      ]
     },
     "execution_count": 11,
     "metadata": {},
     "output_type": "execute_result"
    }
   ],
   "source": [
    "df4['main_category'].value_counts()"
   ]
  },
  {
   "cell_type": "code",
   "execution_count": 12,
   "metadata": {
    "scrolled": true
   },
   "outputs": [
    {
     "data": {
      "text/plain": [
       "0\n",
       "ID                  object\n",
       "name                object\n",
       "category             int32\n",
       "main_category        int32\n",
       "currency             int32\n",
       "deadline            object\n",
       "goal                object\n",
       "launched            object\n",
       "pledged             object\n",
       "state                int32\n",
       "backers             object\n",
       "country              int32\n",
       "usd_pledged         object\n",
       "usd_pledged_real    object\n",
       "usd_goal_real       object\n",
       "dtype: object"
      ]
     },
     "execution_count": 12,
     "metadata": {},
     "output_type": "execute_result"
    }
   ],
   "source": [
    "df4.dtypes"
   ]
  },
  {
   "cell_type": "code",
   "execution_count": 13,
   "metadata": {},
   "outputs": [
    {
     "data": {
      "text/plain": [
       "LinearRegression()"
      ]
     },
     "execution_count": 13,
     "metadata": {},
     "output_type": "execute_result"
    }
   ],
   "source": [
    "X = df4.drop(columns = ['name', 'main_category', 'deadline', 'launched'], axis = 1)\n",
    "lm=LinearRegression()\n",
    "lm"
   ]
  },
  {
   "cell_type": "code",
   "execution_count": 14,
   "metadata": {},
   "outputs": [
    {
     "data": {
      "text/plain": [
       "LinearRegression()"
      ]
     },
     "execution_count": 14,
     "metadata": {},
     "output_type": "execute_result"
    }
   ],
   "source": [
    "lm.fit(X,df4.state)"
   ]
  },
  {
   "cell_type": "code",
   "execution_count": 15,
   "metadata": {},
   "outputs": [
    {
     "data": {
      "text/plain": [
       "array([1., 1., 1., ..., 1., 1., 1.])"
      ]
     },
     "execution_count": 15,
     "metadata": {},
     "output_type": "execute_result"
    }
   ],
   "source": [
    "lm.predict(X)"
   ]
  },
  {
   "cell_type": "code",
   "execution_count": 16,
   "metadata": {},
   "outputs": [
    {
     "name": "stdout",
     "output_type": "stream",
     "text": [
      "Estimated intercept coefficient: 2.027933376780311e-12\n"
     ]
    }
   ],
   "source": [
    "print('Estimated intercept coefficient:',lm.intercept_)"
   ]
  },
  {
   "cell_type": "code",
   "execution_count": 17,
   "metadata": {},
   "outputs": [
    {
     "name": "stdout",
     "output_type": "stream",
     "text": [
      "Number of coeffiients: 11\n"
     ]
    }
   ],
   "source": [
    "print(\"Number of coeffiients:\", len(lm.coef_))"
   ]
  },
  {
   "cell_type": "code",
   "execution_count": 18,
   "metadata": {
    "scrolled": true
   },
   "outputs": [
    {
     "data": {
      "text/html": [
       "<div>\n",
       "<style scoped>\n",
       "    .dataframe tbody tr th:only-of-type {\n",
       "        vertical-align: middle;\n",
       "    }\n",
       "\n",
       "    .dataframe tbody tr th {\n",
       "        vertical-align: top;\n",
       "    }\n",
       "\n",
       "    .dataframe thead th {\n",
       "        text-align: right;\n",
       "    }\n",
       "</style>\n",
       "<table border=\"1\" class=\"dataframe\">\n",
       "  <thead>\n",
       "    <tr style=\"text-align: right;\">\n",
       "      <th></th>\n",
       "      <th>features</th>\n",
       "      <th>estimatedCoefficients</th>\n",
       "    </tr>\n",
       "  </thead>\n",
       "  <tbody>\n",
       "    <tr>\n",
       "      <th>0</th>\n",
       "      <td>ID</td>\n",
       "      <td>-1.301807e-23</td>\n",
       "    </tr>\n",
       "    <tr>\n",
       "      <th>1</th>\n",
       "      <td>category</td>\n",
       "      <td>-1.004743e-14</td>\n",
       "    </tr>\n",
       "    <tr>\n",
       "      <th>2</th>\n",
       "      <td>currency</td>\n",
       "      <td>6.547139e-14</td>\n",
       "    </tr>\n",
       "    <tr>\n",
       "      <th>3</th>\n",
       "      <td>goal</td>\n",
       "      <td>-2.392339e-19</td>\n",
       "    </tr>\n",
       "    <tr>\n",
       "      <th>4</th>\n",
       "      <td>pledged</td>\n",
       "      <td>8.821986e-17</td>\n",
       "    </tr>\n",
       "    <tr>\n",
       "      <th>5</th>\n",
       "      <td>state</td>\n",
       "      <td>1.000000e+00</td>\n",
       "    </tr>\n",
       "    <tr>\n",
       "      <th>6</th>\n",
       "      <td>backers</td>\n",
       "      <td>9.025361e-16</td>\n",
       "    </tr>\n",
       "    <tr>\n",
       "      <th>7</th>\n",
       "      <td>country</td>\n",
       "      <td>-2.790589e-14</td>\n",
       "    </tr>\n",
       "    <tr>\n",
       "      <th>8</th>\n",
       "      <td>usd_pledged</td>\n",
       "      <td>1.543317e-18</td>\n",
       "    </tr>\n",
       "    <tr>\n",
       "      <th>9</th>\n",
       "      <td>usd_pledged_real</td>\n",
       "      <td>-2.654241e-16</td>\n",
       "    </tr>\n",
       "    <tr>\n",
       "      <th>10</th>\n",
       "      <td>usd_goal_real</td>\n",
       "      <td>3.128463e-19</td>\n",
       "    </tr>\n",
       "  </tbody>\n",
       "</table>\n",
       "</div>"
      ],
      "text/plain": [
       "            features  estimatedCoefficients\n",
       "0                 ID          -1.301807e-23\n",
       "1           category          -1.004743e-14\n",
       "2           currency           6.547139e-14\n",
       "3               goal          -2.392339e-19\n",
       "4            pledged           8.821986e-17\n",
       "5              state           1.000000e+00\n",
       "6            backers           9.025361e-16\n",
       "7            country          -2.790589e-14\n",
       "8        usd_pledged           1.543317e-18\n",
       "9   usd_pledged_real          -2.654241e-16\n",
       "10     usd_goal_real           3.128463e-19"
      ]
     },
     "execution_count": 18,
     "metadata": {},
     "output_type": "execute_result"
    }
   ],
   "source": [
    "pd.DataFrame(zip(X.columns, lm.coef_), columns = ['features', 'estimatedCoefficients'])"
   ]
  },
  {
   "cell_type": "code",
   "execution_count": 19,
   "metadata": {},
   "outputs": [
    {
     "data": {
      "image/png": "[encoded data removed]",
      "text/plain": [
       "<Figure size 432x288 with 1 Axes>"
      ]
     },
     "metadata": {
      "needs_background": "light"
     },
     "output_type": "display_data"
    }
   ],
   "source": [
    "# True PLot\n",
    "plt.scatter(df4.currency, df4.main_category)\n",
    "plt.xlabel('currency')\n",
    "plt.ylabel('Main Category')\n",
    "plt.title('True PLot')\n",
    "plt.xticks(rotation=45)\n",
    "plt.show()"
   ]
  },
  {
   "cell_type": "code",
   "execution_count": 20,
   "metadata": {},
   "outputs": [
    {
     "data": {
      "text/plain": [
       "array([1.0000000e+00, 1.0000000e+00, 1.0000000e+00, 1.0000000e+00,\n",
       "       1.5161089e-12])"
      ]
     },
     "execution_count": 20,
     "metadata": {},
     "output_type": "execute_result"
    }
   ],
   "source": [
    "lm.predict(X)[0:5]"
   ]
  },
  {
   "cell_type": "code",
   "execution_count": 30,
   "metadata": {},
   "outputs": [
    {
     "data": {
      "image/png": "[encoded data removed]",
      "text/plain": [
       "<Figure size 432x288 with 1 Axes>"
      ]
     },
     "metadata": {
      "needs_background": "light"
     },
     "output_type": "display_data"
    }
   ],
   "source": [
    "# Prediction PLot\n",
    "plt.scatter(df4.main_category, lm.predict(X))\n",
    "plt.xlabel('main_category $y_i$')\n",
    "plt.ylabel('Predicted main_category: $\\hat{Y}_i$')\n",
    "plt.title('Prediction of Main Category')\n",
    "plt.xticks(rotation=45)\n",
    "plt.show()"
   ]
  },
  {
   "cell_type": "code",
   "execution_count": 31,
   "metadata": {
    "scrolled": true
   },
   "outputs": [
    {
     "name": "stdout",
     "output_type": "stream",
     "text": [
      "14.713764754782597\n"
     ]
    }
   ],
   "source": [
    "mseFull = np.mean((df4.main_category - lm.predict(X)) ** 2)\n",
    "print(mseFull)"
   ]
  },
  {
   "cell_type": "code",
   "execution_count": 23,
   "metadata": {},
   "outputs": [
    {
     "name": "stdout",
     "output_type": "stream",
     "text": [
      "variance 0\n",
      "category    2051.544046\n",
      "currency      15.525936\n",
      "state          1.182740\n",
      "country       34.935685\n",
      "dtype: float64\n"
     ]
    }
   ],
   "source": [
    "v = np.var(X)\n",
    "print(\"variance\", v)"
   ]
  },
  {
   "cell_type": "code",
   "execution_count": 24,
   "metadata": {},
   "outputs": [
    {
     "data": {
      "text/plain": [
       "LinearRegression()"
      ]
     },
     "execution_count": 24,
     "metadata": {},
     "output_type": "execute_result"
    }
   ],
   "source": [
    "lm = LinearRegression()\n",
    "lm.fit(X[['usd_pledged']], df4.main_category)"
   ]
  },
  {
   "cell_type": "code",
   "execution_count": 25,
   "metadata": {},
   "outputs": [
    {
     "data": {
      "text/plain": [
       "15.327959174130427"
      ]
     },
     "execution_count": 25,
     "metadata": {},
     "output_type": "execute_result"
    }
   ],
   "source": [
    "mse2 = np.mean((df4.main_category - lm.predict(X[['usd_pledged']])) ** 2)\n",
    "mse2"
   ]
  },
  {
   "cell_type": "code",
   "execution_count": 26,
   "metadata": {
    "scrolled": true
   },
   "outputs": [
    {
     "name": "stdout",
     "output_type": "stream",
     "text": [
      "(224916, 11)\n",
      "(149944, 11)\n",
      "(224916,)\n",
      "(149944,)\n"
     ]
    }
   ],
   "source": [
    "X_train, X_test, Y_train, Y_test = train_test_split(\n",
    "    X, df4.main_category, test_size=.40, random_state=5)\n",
    "print(X_train.shape)\n",
    "print(X_test.shape)\n",
    "print(Y_train.shape)\n",
    "print(Y_test.shape)"
   ]
  },
  {
   "cell_type": "code",
   "execution_count": 27,
   "metadata": {},
   "outputs": [],
   "source": [
    "lm = LinearRegression()\n",
    "lm.fit(X_train, Y_train)\n",
    "pred_train = lm.predict(X_train)\n",
    "pred_test = lm.predict(X_test)"
   ]
  },
  {
   "cell_type": "code",
   "execution_count": 28,
   "metadata": {},
   "outputs": [
    {
     "name": "stdout",
     "output_type": "stream",
     "text": [
      "Fit a model X_train, and calculate MSE with Y_train: <function mean at 0x0000024A4676EDC0> 230179    31.667067\n",
      "73672     37.105144\n",
      "193270    31.955780\n",
      "370945     4.727639\n",
      "364675     0.656887\n",
      "            ...    \n",
      "234778     0.687147\n",
      "125854    17.606401\n",
      "20684     18.849822\n",
      "18843     47.439290\n",
      "300832    24.173767\n",
      "Name: main_category, Length: 224916, dtype: float64\n",
      "Fit a model X_train, and calculate MSE with X_test, Y_test: 0.0001918306092718783\n"
     ]
    }
   ],
   "source": [
    "print(\"Fit a model X_train, and calculate MSE with Y_train:\", np.mean,(Y_train-lm.predict(X_train)) ** 2)\n",
    "print(\"Fit a model X_train, and calculate MSE with X_test, Y_test:\", np.mean(Y_test-lm.predict(X_test)) ** 2)\n",
    "# print(\"Fit a model X_train, and calculate MSE with Y_train:\"), np.mean((Y_train-lm.predict(X_train)) ** 2)\n",
    "# print(\"Fit a model X_train, and calculate MSE with X_test, Y_test:\"), np.mean((Y_test-lm.predict(X_test)) ** 2)"
   ]
  },
  {
   "cell_type": "code",
   "execution_count": 29,
   "metadata": {},
   "outputs": [
    {
     "data": {
      "text/plain": [
       "Text(0, 0.5, 'Residuals')"
      ]
     },
     "execution_count": 29,
     "metadata": {},
     "output_type": "execute_result"
    },
    {
     "data": {
      "image/png": "[encoded data removed]",
      "text/plain": [
       "<Figure size 432x288 with 1 Axes>"
      ]
     },
     "metadata": {
      "needs_background": "light"
     },
     "output_type": "display_data"
    }
   ],
   "source": [
    "plt.scatter(lm.predict(X_train), lm.predict(X_train) - Y_train, c='b', s=40, alpha=0.5)\n",
    "plt.scatter(lm.predict(X_test), lm.predict(X_test) - Y_test, c='g', s=40)\n",
    "plt.hlines(y=0, xmin=4, xmax=14, color=\"black\")\n",
    "plt.title('Residual Plot')\n",
    "plt.ylabel('Residuals')"
   ]
  },
  {
   "cell_type": "code",
   "execution_count": null,
   "metadata": {},
   "outputs": [],
   "source": []
  }
 ],
 "metadata": {
  "kernelspec": {
   "display_name": "Python 3",
   "language": "python",
   "name": "python3"
  },
  "language_info": {
   "codemirror_mode": {
    "name": "ipython",
    "version": 3
   },
   "file_extension": ".py",
   "mimetype": "text/x-python",
   "name": "python",
   "nbconvert_exporter": "python",
   "pygments_lexer": "ipython3",
   "version": "3.8.6"
  }
 },
 "nbformat": 4,
 "nbformat_minor": 4
}
