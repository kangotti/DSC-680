{
 "cells": [
  {
   "cell_type": "code",
   "execution_count": 5,
   "metadata": {},
   "outputs": [],
   "source": [
    "import numpy as np\n",
    "import pandas as pd\n",
    "import matplotlib.pyplot as plt\n",
    "import plotly.express as px\n",
    "import plotly.graph_objects as go\n",
    "import pandas as pd\n",
    "from sklearn import datasets, linear_model\n",
    "from sklearn.model_selection import train_test_split\n",
    "from matplotlib import pyplot as plt\n",
    "from kmodes.kmodes import KModes\n",
    "import seaborn as sns\n",
    "from scipy import stats\n",
    "from sklearn.linear_model import LinearRegression\n",
    "from sklearn import preprocessing\n",
    "import sklearn\n",
    "from sklearn import svm\n",
    "from sklearn.preprocessing import PowerTransformer\n",
    "from sklearn.datasets import load_digits\n",
    "from sklearn.preprocessing import StandardScaler\n",
    "%matplotlib inline\n",
    "import keras\n",
    "from keras.layers import Embedding\n",
    "from random import randrange"
   ]
  },
  {
   "cell_type": "code",
   "execution_count": 6,
   "metadata": {},
   "outputs": [],
   "source": [
    "df2 = pd.read_csv(\"ks-projects-201801.csv\", sep=\",\", header=None, engine='python') "
   ]
  },
  {
   "cell_type": "code",
   "execution_count": 7,
   "metadata": {
    "scrolled": true
   },
   "outputs": [
    {
     "data": {
      "text/html": [
       "<div>\n",
       "<style scoped>\n",
       "    .dataframe tbody tr th:only-of-type {\n",
       "        vertical-align: middle;\n",
       "    }\n",
       "\n",
       "    .dataframe tbody tr th {\n",
       "        vertical-align: top;\n",
       "    }\n",
       "\n",
       "    .dataframe thead th {\n",
       "        text-align: right;\n",
       "    }\n",
       "</style>\n",
       "<table border=\"1\" class=\"dataframe\">\n",
       "  <thead>\n",
       "    <tr style=\"text-align: right;\">\n",
       "      <th></th>\n",
       "      <th>ID</th>\n",
       "      <th>name</th>\n",
       "      <th>category</th>\n",
       "      <th>main_category</th>\n",
       "      <th>currency</th>\n",
       "      <th>deadline</th>\n",
       "      <th>goal</th>\n",
       "      <th>launched</th>\n",
       "      <th>pledged</th>\n",
       "      <th>state</th>\n",
       "      <th>backers</th>\n",
       "      <th>country</th>\n",
       "      <th>usd_pledged</th>\n",
       "      <th>usd_pledged_real</th>\n",
       "      <th>usd_goal_real</th>\n",
       "    </tr>\n",
       "  </thead>\n",
       "  <tbody>\n",
       "    <tr>\n",
       "      <th>1</th>\n",
       "      <td>1000002330</td>\n",
       "      <td>The Songs of Adelaide &amp; Abullah</td>\n",
       "      <td>Poetry</td>\n",
       "      <td>Publishing</td>\n",
       "      <td>GBP</td>\n",
       "      <td>10/9/2015</td>\n",
       "      <td>1000</td>\n",
       "      <td>8/11/2015 12:12</td>\n",
       "      <td>0</td>\n",
       "      <td>failed</td>\n",
       "      <td>0</td>\n",
       "      <td>GB</td>\n",
       "      <td>0</td>\n",
       "      <td>0</td>\n",
       "      <td>1533.95</td>\n",
       "    </tr>\n",
       "    <tr>\n",
       "      <th>2</th>\n",
       "      <td>1000003930</td>\n",
       "      <td>Greeting From Earth: ZGAC Arts Capsule For ET</td>\n",
       "      <td>Narrative Film</td>\n",
       "      <td>Film &amp; Video</td>\n",
       "      <td>USD</td>\n",
       "      <td>11/1/2017</td>\n",
       "      <td>30000</td>\n",
       "      <td>9/2/2017 4:43</td>\n",
       "      <td>2421</td>\n",
       "      <td>failed</td>\n",
       "      <td>15</td>\n",
       "      <td>US</td>\n",
       "      <td>100</td>\n",
       "      <td>2421</td>\n",
       "      <td>30000</td>\n",
       "    </tr>\n",
       "    <tr>\n",
       "      <th>3</th>\n",
       "      <td>1000004038</td>\n",
       "      <td>Where is Hank?</td>\n",
       "      <td>Narrative Film</td>\n",
       "      <td>Film &amp; Video</td>\n",
       "      <td>USD</td>\n",
       "      <td>2/26/2013</td>\n",
       "      <td>45000</td>\n",
       "      <td>1/12/2013 0:20</td>\n",
       "      <td>220</td>\n",
       "      <td>failed</td>\n",
       "      <td>3</td>\n",
       "      <td>US</td>\n",
       "      <td>220</td>\n",
       "      <td>220</td>\n",
       "      <td>45000</td>\n",
       "    </tr>\n",
       "    <tr>\n",
       "      <th>4</th>\n",
       "      <td>1000007540</td>\n",
       "      <td>ToshiCapital Rekordz Needs Help to Complete Album</td>\n",
       "      <td>Music</td>\n",
       "      <td>Music</td>\n",
       "      <td>USD</td>\n",
       "      <td>4/16/2012</td>\n",
       "      <td>5000</td>\n",
       "      <td>3/17/2012 3:24</td>\n",
       "      <td>1</td>\n",
       "      <td>failed</td>\n",
       "      <td>1</td>\n",
       "      <td>US</td>\n",
       "      <td>1</td>\n",
       "      <td>1</td>\n",
       "      <td>5000</td>\n",
       "    </tr>\n",
       "    <tr>\n",
       "      <th>5</th>\n",
       "      <td>1000011046</td>\n",
       "      <td>Community Film Project: The Art of Neighborhoo...</td>\n",
       "      <td>Film &amp; Video</td>\n",
       "      <td>Film &amp; Video</td>\n",
       "      <td>USD</td>\n",
       "      <td>8/29/2015</td>\n",
       "      <td>19500</td>\n",
       "      <td>7/4/2015 8:35</td>\n",
       "      <td>1283</td>\n",
       "      <td>canceled</td>\n",
       "      <td>14</td>\n",
       "      <td>US</td>\n",
       "      <td>1283</td>\n",
       "      <td>1283</td>\n",
       "      <td>19500</td>\n",
       "    </tr>\n",
       "  </tbody>\n",
       "</table>\n",
       "</div>"
      ],
      "text/plain": [
       "0          ID                                               name  \\\n",
       "1  1000002330                    The Songs of Adelaide & Abullah   \n",
       "2  1000003930      Greeting From Earth: ZGAC Arts Capsule For ET   \n",
       "3  1000004038                                     Where is Hank?   \n",
       "4  1000007540  ToshiCapital Rekordz Needs Help to Complete Album   \n",
       "5  1000011046  Community Film Project: The Art of Neighborhoo...   \n",
       "\n",
       "0        category main_category currency   deadline   goal         launched  \\\n",
       "1          Poetry    Publishing      GBP  10/9/2015   1000  8/11/2015 12:12   \n",
       "2  Narrative Film  Film & Video      USD  11/1/2017  30000    9/2/2017 4:43   \n",
       "3  Narrative Film  Film & Video      USD  2/26/2013  45000   1/12/2013 0:20   \n",
       "4           Music         Music      USD  4/16/2012   5000   3/17/2012 3:24   \n",
       "5    Film & Video  Film & Video      USD  8/29/2015  19500    7/4/2015 8:35   \n",
       "\n",
       "0 pledged     state backers country usd_pledged usd_pledged_real usd_goal_real  \n",
       "1       0    failed       0      GB           0                0       1533.95  \n",
       "2    2421    failed      15      US         100             2421         30000  \n",
       "3     220    failed       3      US         220              220         45000  \n",
       "4       1    failed       1      US           1                1          5000  \n",
       "5    1283  canceled      14      US        1283             1283         19500  "
      ]
     },
     "execution_count": 7,
     "metadata": {},
     "output_type": "execute_result"
    }
   ],
   "source": [
    "header = df2.iloc[0]\n",
    "# take the rest of your data minus the header row\n",
    "df2 = df2[1:]\n",
    "# set the header row as the df header\n",
    "df2.columns = header\n",
    "# pd.set_option('display.max_rows', 7500)\n",
    "# pd.set_option('display.max_columns', 106)\n",
    "df2.head(5)"
   ]
  },
  {
   "cell_type": "code",
   "execution_count": 4,
   "metadata": {},
   "outputs": [
    {
     "data": {
      "text/plain": [
       "0\n",
       "ID                     0\n",
       "name                   4\n",
       "category               0\n",
       "main_category          0\n",
       "currency               0\n",
       "deadline               0\n",
       "goal                   0\n",
       "launched               0\n",
       "pledged                0\n",
       "state                  0\n",
       "backers                0\n",
       "country                0\n",
       "usd_pledged         3797\n",
       "usd_pledged_real       0\n",
       "usd_goal_real          0\n",
       "dtype: int64"
      ]
     },
     "execution_count": 4,
     "metadata": {},
     "output_type": "execute_result"
    }
   ],
   "source": [
    "df2.isnull().sum()"
   ]
  },
  {
   "cell_type": "code",
   "execution_count": 5,
   "metadata": {
    "scrolled": true
   },
   "outputs": [],
   "source": [
    "df2 = df2.dropna(axis=0)\n",
    "#df3.head(5)"
   ]
  },
  {
   "cell_type": "code",
   "execution_count": 6,
   "metadata": {},
   "outputs": [
    {
     "data": {
      "text/plain": [
       "0\n",
       "ID                  0\n",
       "name                0\n",
       "category            0\n",
       "main_category       0\n",
       "currency            0\n",
       "deadline            0\n",
       "goal                0\n",
       "launched            0\n",
       "pledged             0\n",
       "state               0\n",
       "backers             0\n",
       "country             0\n",
       "usd_pledged         0\n",
       "usd_pledged_real    0\n",
       "usd_goal_real       0\n",
       "dtype: int64"
      ]
     },
     "execution_count": 6,
     "metadata": {},
     "output_type": "execute_result"
    }
   ],
   "source": [
    "# Cleaning Check\n",
    "df2.isnull().sum()"
   ]
  },
  {
   "cell_type": "code",
   "execution_count": 7,
   "metadata": {},
   "outputs": [],
   "source": [
    "# Clustering with K-Modes"
   ]
  },
  {
   "cell_type": "code",
   "execution_count": 8,
   "metadata": {},
   "outputs": [
    {
     "name": "stdout",
     "output_type": "stream",
     "text": [
      "Init: initializing centroids\n",
      "Init: initializing clusters\n",
      "Starting iterations...\n",
      "Run 1, iteration: 1/100, moves: 69569, cost: 4162082.0\n",
      "Run 1, iteration: 2/100, moves: 1263, cost: 4162081.0\n",
      "Run 1, iteration: 3/100, moves: 0, cost: 4162081.0\n",
      "Init: initializing centroids\n",
      "Init: initializing clusters\n",
      "Starting iterations...\n",
      "Run 2, iteration: 1/100, moves: 34534, cost: 4203337.0\n",
      "Init: initializing centroids\n",
      "Init: initializing clusters\n",
      "Starting iterations...\n",
      "Run 3, iteration: 1/100, moves: 39843, cost: 4214118.0\n",
      "Run 3, iteration: 2/100, moves: 5036, cost: 4214118.0\n",
      "Init: initializing centroids\n",
      "Init: initializing clusters\n",
      "Starting iterations...\n",
      "Run 4, iteration: 1/100, moves: 47860, cost: 4191117.0\n",
      "Run 4, iteration: 2/100, moves: 1522, cost: 4191117.0\n",
      "Init: initializing centroids\n",
      "Init: initializing clusters\n",
      "Starting iterations...\n",
      "Run 5, iteration: 1/100, moves: 150009, cost: 4214134.0\n",
      "Run 5, iteration: 2/100, moves: 427, cost: 4214134.0\n",
      "Best run was number 1\n",
      "[['1000002330' '#NAME?' 'Product Design' 'Film & Video' 'USD' '8/8/2014'\n",
      "  '5000' '7/11/2014 21:15' '0' 'failed' '0' 'US' '0' '0' '5000']\n",
      " ['1000014025' 'Pasta Salad' 'Food' 'Food' 'USD' '8/8/2014' '15000'\n",
      "  '1/23/2015 19:35' '0' 'failed' '0' 'US' '0' '0' '15000']\n",
      " ['100005484' '#NAME?' 'Tabletop Games' 'Music' 'USD' '7/1/2015' '500'\n",
      "  '6/20/2017 16:00' '500' 'successful' '19' 'US' '0' '500' '500']\n",
      " ['1000011046' '#NAME?' 'Documentary' 'Film & Video' 'USD' '11/1/2013'\n",
      "  '10000' '11/13/2013 0:03' '50' 'successful' '2' 'US' '50' '50' '10000']\n",
      " ['1000007540' 'New EP/Music Development' 'Fiction' 'Publishing' 'USD'\n",
      "  '8/10/2014' '10000' '1/29/2013 23:29' '1' 'failed' '1' 'US' '1' '1'\n",
      "  '10000']]\n"
     ]
    }
   ],
   "source": [
    "data = df2\n",
    "\n",
    "# model\n",
    "km = KModes(n_clusters=5, init='Huang', n_init=5, verbose=1)\n",
    "clusters = km.fit_predict(data)\n",
    "\n",
    "# Print the results of clustering centroids\n",
    "print(km.cluster_centroids_)"
   ]
  },
  {
   "cell_type": "code",
   "execution_count": null,
   "metadata": {},
   "outputs": [],
   "source": []
  }
 ],
 "metadata": {
  "kernelspec": {
   "display_name": "Python 3",
   "language": "python",
   "name": "python3"
  },
  "language_info": {
   "codemirror_mode": {
    "name": "ipython",
    "version": 3
   },
   "file_extension": ".py",
   "mimetype": "text/x-python",
   "name": "python",
   "nbconvert_exporter": "python",
   "pygments_lexer": "ipython3",
   "version": "3.8.6"
  }
 },
 "nbformat": 4,
 "nbformat_minor": 4
}
