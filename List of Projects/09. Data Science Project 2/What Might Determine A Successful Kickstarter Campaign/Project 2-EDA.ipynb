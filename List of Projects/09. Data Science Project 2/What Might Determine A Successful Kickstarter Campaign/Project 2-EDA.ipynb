{
 "cells": [
  {
   "cell_type": "code",
   "execution_count": 1,
   "metadata": {},
   "outputs": [],
   "source": [
    "import numpy as np\n",
    "import pandas as pd\n",
    "import matplotlib.pyplot as plt\n",
    "import plotly.express as px\n",
    "import plotly.graph_objects as go\n",
    "import pandas as pd\n",
    "from sklearn import datasets, linear_model\n",
    "from sklearn.model_selection import train_test_split\n",
    "from matplotlib import pyplot as plt\n",
    "from kmodes.kmodes import KModes\n",
    "import seaborn as sns\n",
    "from scipy import stats\n",
    "from sklearn.linear_model import LinearRegression\n",
    "from sklearn import preprocessing\n",
    "import sklearn\n",
    "from sklearn import svm\n",
    "from sklearn.preprocessing import PowerTransformer\n",
    "from sklearn.datasets import load_digits\n",
    "from sklearn.preprocessing import StandardScaler\n",
    "%matplotlib inline\n",
    "import keras\n",
    "from keras.layers import Embedding\n",
    "from random import randrange\n",
    "from sklearn.linear_model import LogisticRegression\n",
    "from sklearn.metrics import accuracy_score\n",
    "import pandas as pd\n",
    "import numpy as np\n",
    "import seaborn as sns\n",
    "import matplotlib.pyplot as plt\n",
    "%matplotlib inline\n",
    "import warnings\n",
    "warnings.filterwarnings(\"ignore\")\n",
    "from sklearn import *\n",
    "from sklearn.ensemble import RandomForestClassifier\n",
    "from sklearn.model_selection import GridSearchCV"
   ]
  },
  {
   "cell_type": "code",
   "execution_count": 2,
   "metadata": {},
   "outputs": [],
   "source": [
    "df2 = pd.read_csv(\"ks-projects-201801.csv\", sep=\",\", header=None, engine='python') "
   ]
  },
  {
   "cell_type": "code",
   "execution_count": 3,
   "metadata": {
    "scrolled": true
   },
   "outputs": [],
   "source": [
    "header = df2.iloc[0]\n",
    "# take the rest of your data minus the header row\n",
    "df2 = df2[1:]\n",
    "# set the header row as the df header\n",
    "df2.columns = header\n",
    "# pd.set_option('display.max_rows', 7500)\n",
    "# pd.set_option('display.max_columns', 106)\n",
    "#df2.head(5)"
   ]
  },
  {
   "cell_type": "code",
   "execution_count": 4,
   "metadata": {},
   "outputs": [
    {
     "data": {
      "text/plain": [
       "0\n",
       "ID                     0\n",
       "name                   4\n",
       "category               0\n",
       "main_category          0\n",
       "currency               0\n",
       "deadline               0\n",
       "goal                   0\n",
       "launched               0\n",
       "pledged                0\n",
       "state                  0\n",
       "backers                0\n",
       "country                0\n",
       "usd_pledged         3797\n",
       "usd_pledged_real       0\n",
       "usd_goal_real          0\n",
       "dtype: int64"
      ]
     },
     "execution_count": 4,
     "metadata": {},
     "output_type": "execute_result"
    }
   ],
   "source": [
    "df2.isnull().sum()"
   ]
  },
  {
   "cell_type": "code",
   "execution_count": 5,
   "metadata": {
    "scrolled": true
   },
   "outputs": [],
   "source": [
    "df2 = df2.dropna(axis=0)\n",
    "#df3.head(5)"
   ]
  },
  {
   "cell_type": "code",
   "execution_count": 6,
   "metadata": {},
   "outputs": [
    {
     "data": {
      "text/plain": [
       "0\n",
       "ID                  0\n",
       "name                0\n",
       "category            0\n",
       "main_category       0\n",
       "currency            0\n",
       "deadline            0\n",
       "goal                0\n",
       "launched            0\n",
       "pledged             0\n",
       "state               0\n",
       "backers             0\n",
       "country             0\n",
       "usd_pledged         0\n",
       "usd_pledged_real    0\n",
       "usd_goal_real       0\n",
       "dtype: int64"
      ]
     },
     "execution_count": 6,
     "metadata": {},
     "output_type": "execute_result"
    }
   ],
   "source": [
    "# Cleaning Check\n",
    "df2.isnull().sum()"
   ]
  },
  {
   "cell_type": "code",
   "execution_count": 7,
   "metadata": {},
   "outputs": [],
   "source": [
    "df4=df2"
   ]
  },
  {
   "cell_type": "code",
   "execution_count": 8,
   "metadata": {},
   "outputs": [],
   "source": [
    "# EDA"
   ]
  },
  {
   "cell_type": "code",
   "execution_count": 8,
   "metadata": {},
   "outputs": [],
   "source": [
    "df7 = df2"
   ]
  },
  {
   "cell_type": "code",
   "execution_count": 9,
   "metadata": {},
   "outputs": [],
   "source": [
    "le = preprocessing.LabelEncoder()\n",
    "df7['backers'] = le.fit_transform(df7.backers.values)\n",
    "df7['pledged'] = le.fit_transform(df7.pledged.values) \n",
    "df7['usd_pledged'] = le.fit_transform(df7.usd_pledged.values) \n",
    "df7['usd_pledged_real'] = le.fit_transform(df7.usd_pledged_real.values) \n",
    "df7['usd_goal_real'] = le.fit_transform(df7.usd_goal_real.values) "
   ]
  },
  {
   "cell_type": "code",
   "execution_count": 10,
   "metadata": {},
   "outputs": [],
   "source": [
    "train = df7\n",
    "test = df7.drop(columns = ['state'], axis = 1)"
   ]
  },
  {
   "cell_type": "code",
   "execution_count": 11,
   "metadata": {},
   "outputs": [],
   "source": [
    "train_original = train.copy()\n",
    "test_original = test.copy()"
   ]
  },
  {
   "cell_type": "code",
   "execution_count": 12,
   "metadata": {},
   "outputs": [
    {
     "data": {
      "text/plain": [
       "Index(['ID', 'name', 'category', 'main_category', 'currency', 'deadline',\n",
       "       'goal', 'launched', 'pledged', 'state', 'backers', 'country',\n",
       "       'usd_pledged', 'usd_pledged_real', 'usd_goal_real'],\n",
       "      dtype='object', name=0)"
      ]
     },
     "execution_count": 12,
     "metadata": {},
     "output_type": "execute_result"
    }
   ],
   "source": [
    "train.columns"
   ]
  },
  {
   "cell_type": "code",
   "execution_count": 13,
   "metadata": {},
   "outputs": [
    {
     "data": {
      "text/plain": [
       "Index(['ID', 'name', 'category', 'main_category', 'currency', 'deadline',\n",
       "       'goal', 'launched', 'pledged', 'backers', 'country', 'usd_pledged',\n",
       "       'usd_pledged_real', 'usd_goal_real'],\n",
       "      dtype='object', name=0)"
      ]
     },
     "execution_count": 13,
     "metadata": {},
     "output_type": "execute_result"
    }
   ],
   "source": [
    "test.columns"
   ]
  },
  {
   "cell_type": "code",
   "execution_count": 14,
   "metadata": {},
   "outputs": [
    {
     "data": {
      "text/plain": [
       "0\n",
       "ID                  object\n",
       "name                object\n",
       "category            object\n",
       "main_category       object\n",
       "currency            object\n",
       "deadline            object\n",
       "goal                object\n",
       "launched            object\n",
       "pledged              int32\n",
       "state               object\n",
       "backers              int32\n",
       "country             object\n",
       "usd_pledged          int32\n",
       "usd_pledged_real     int32\n",
       "usd_goal_real        int32\n",
       "dtype: object"
      ]
     },
     "execution_count": 14,
     "metadata": {},
     "output_type": "execute_result"
    }
   ],
   "source": [
    "train.dtypes"
   ]
  },
  {
   "cell_type": "code",
   "execution_count": 15,
   "metadata": {},
   "outputs": [
    {
     "name": "stdout",
     "output_type": "stream",
     "text": [
      "Training data shape:  (374860, 15)\n"
     ]
    },
    {
     "data": {
      "text/html": [
       "<div>\n",
       "<style scoped>\n",
       "    .dataframe tbody tr th:only-of-type {\n",
       "        vertical-align: middle;\n",
       "    }\n",
       "\n",
       "    .dataframe tbody tr th {\n",
       "        vertical-align: top;\n",
       "    }\n",
       "\n",
       "    .dataframe thead th {\n",
       "        text-align: right;\n",
       "    }\n",
       "</style>\n",
       "<table border=\"1\" class=\"dataframe\">\n",
       "  <thead>\n",
       "    <tr style=\"text-align: right;\">\n",
       "      <th></th>\n",
       "      <th>ID</th>\n",
       "      <th>name</th>\n",
       "      <th>category</th>\n",
       "      <th>main_category</th>\n",
       "      <th>currency</th>\n",
       "      <th>deadline</th>\n",
       "      <th>goal</th>\n",
       "      <th>launched</th>\n",
       "      <th>pledged</th>\n",
       "      <th>state</th>\n",
       "      <th>backers</th>\n",
       "      <th>country</th>\n",
       "      <th>usd_pledged</th>\n",
       "      <th>usd_pledged_real</th>\n",
       "      <th>usd_goal_real</th>\n",
       "    </tr>\n",
       "  </thead>\n",
       "  <tbody>\n",
       "    <tr>\n",
       "      <th>1</th>\n",
       "      <td>1000002330</td>\n",
       "      <td>The Songs of Adelaide &amp; Abullah</td>\n",
       "      <td>Poetry</td>\n",
       "      <td>Publishing</td>\n",
       "      <td>GBP</td>\n",
       "      <td>10/9/2015</td>\n",
       "      <td>1000</td>\n",
       "      <td>8/11/2015 12:12</td>\n",
       "      <td>0</td>\n",
       "      <td>failed</td>\n",
       "      <td>0</td>\n",
       "      <td>GB</td>\n",
       "      <td>0</td>\n",
       "      <td>0</td>\n",
       "      <td>9237</td>\n",
       "    </tr>\n",
       "    <tr>\n",
       "      <th>2</th>\n",
       "      <td>1000003930</td>\n",
       "      <td>Greeting From Earth: ZGAC Arts Capsule For ET</td>\n",
       "      <td>Narrative Film</td>\n",
       "      <td>Film &amp; Video</td>\n",
       "      <td>USD</td>\n",
       "      <td>11/1/2017</td>\n",
       "      <td>30000</td>\n",
       "      <td>9/2/2017 4:43</td>\n",
       "      <td>24896</td>\n",
       "      <td>failed</td>\n",
       "      <td>670</td>\n",
       "      <td>US</td>\n",
       "      <td>231</td>\n",
       "      <td>41682</td>\n",
       "      <td>23175</td>\n",
       "    </tr>\n",
       "    <tr>\n",
       "      <th>3</th>\n",
       "      <td>1000004038</td>\n",
       "      <td>Where is Hank?</td>\n",
       "      <td>Narrative Film</td>\n",
       "      <td>Film &amp; Video</td>\n",
       "      <td>USD</td>\n",
       "      <td>2/26/2013</td>\n",
       "      <td>45000</td>\n",
       "      <td>1/12/2013 0:20</td>\n",
       "      <td>22380</td>\n",
       "      <td>failed</td>\n",
       "      <td>2018</td>\n",
       "      <td>US</td>\n",
       "      <td>34037</td>\n",
       "      <td>37381</td>\n",
       "      <td>32144</td>\n",
       "    </tr>\n",
       "    <tr>\n",
       "      <th>4</th>\n",
       "      <td>1000007540</td>\n",
       "      <td>ToshiCapital Rekordz Needs Help to Complete Album</td>\n",
       "      <td>Music</td>\n",
       "      <td>Music</td>\n",
       "      <td>USD</td>\n",
       "      <td>4/16/2012</td>\n",
       "      <td>5000</td>\n",
       "      <td>3/17/2012 3:24</td>\n",
       "      <td>1</td>\n",
       "      <td>failed</td>\n",
       "      <td>1</td>\n",
       "      <td>US</td>\n",
       "      <td>52</td>\n",
       "      <td>54</td>\n",
       "      <td>34537</td>\n",
       "    </tr>\n",
       "    <tr>\n",
       "      <th>5</th>\n",
       "      <td>1000011046</td>\n",
       "      <td>Community Film Project: The Art of Neighborhoo...</td>\n",
       "      <td>Film &amp; Video</td>\n",
       "      <td>Film &amp; Video</td>\n",
       "      <td>USD</td>\n",
       "      <td>8/29/2015</td>\n",
       "      <td>19500</td>\n",
       "      <td>7/4/2015 8:35</td>\n",
       "      <td>7559</td>\n",
       "      <td>canceled</td>\n",
       "      <td>550</td>\n",
       "      <td>US</td>\n",
       "      <td>11241</td>\n",
       "      <td>12325</td>\n",
       "      <td>14285</td>\n",
       "    </tr>\n",
       "  </tbody>\n",
       "</table>\n",
       "</div>"
      ],
      "text/plain": [
       "0          ID                                               name  \\\n",
       "1  1000002330                    The Songs of Adelaide & Abullah   \n",
       "2  1000003930      Greeting From Earth: ZGAC Arts Capsule For ET   \n",
       "3  1000004038                                     Where is Hank?   \n",
       "4  1000007540  ToshiCapital Rekordz Needs Help to Complete Album   \n",
       "5  1000011046  Community Film Project: The Art of Neighborhoo...   \n",
       "\n",
       "0        category main_category currency   deadline   goal         launched  \\\n",
       "1          Poetry    Publishing      GBP  10/9/2015   1000  8/11/2015 12:12   \n",
       "2  Narrative Film  Film & Video      USD  11/1/2017  30000    9/2/2017 4:43   \n",
       "3  Narrative Film  Film & Video      USD  2/26/2013  45000   1/12/2013 0:20   \n",
       "4           Music         Music      USD  4/16/2012   5000   3/17/2012 3:24   \n",
       "5    Film & Video  Film & Video      USD  8/29/2015  19500    7/4/2015 8:35   \n",
       "\n",
       "0  pledged     state  backers country  usd_pledged  usd_pledged_real  \\\n",
       "1        0    failed        0      GB            0                 0   \n",
       "2    24896    failed      670      US          231             41682   \n",
       "3    22380    failed     2018      US        34037             37381   \n",
       "4        1    failed        1      US           52                54   \n",
       "5     7559  canceled      550      US        11241             12325   \n",
       "\n",
       "0  usd_goal_real  \n",
       "1           9237  \n",
       "2          23175  \n",
       "3          32144  \n",
       "4          34537  \n",
       "5          14285  "
      ]
     },
     "execution_count": 15,
     "metadata": {},
     "output_type": "execute_result"
    }
   ],
   "source": [
    "print('Training data shape: ', train.shape)\n",
    "train.head(5)"
   ]
  },
  {
   "cell_type": "code",
   "execution_count": 16,
   "metadata": {},
   "outputs": [
    {
     "name": "stdout",
     "output_type": "stream",
     "text": [
      "Test data shape:  (374860, 14)\n"
     ]
    },
    {
     "data": {
      "text/html": [
       "<div>\n",
       "<style scoped>\n",
       "    .dataframe tbody tr th:only-of-type {\n",
       "        vertical-align: middle;\n",
       "    }\n",
       "\n",
       "    .dataframe tbody tr th {\n",
       "        vertical-align: top;\n",
       "    }\n",
       "\n",
       "    .dataframe thead th {\n",
       "        text-align: right;\n",
       "    }\n",
       "</style>\n",
       "<table border=\"1\" class=\"dataframe\">\n",
       "  <thead>\n",
       "    <tr style=\"text-align: right;\">\n",
       "      <th></th>\n",
       "      <th>ID</th>\n",
       "      <th>name</th>\n",
       "      <th>category</th>\n",
       "      <th>main_category</th>\n",
       "      <th>currency</th>\n",
       "      <th>deadline</th>\n",
       "      <th>goal</th>\n",
       "      <th>launched</th>\n",
       "      <th>pledged</th>\n",
       "      <th>backers</th>\n",
       "      <th>country</th>\n",
       "      <th>usd_pledged</th>\n",
       "      <th>usd_pledged_real</th>\n",
       "      <th>usd_goal_real</th>\n",
       "    </tr>\n",
       "  </thead>\n",
       "  <tbody>\n",
       "    <tr>\n",
       "      <th>1</th>\n",
       "      <td>1000002330</td>\n",
       "      <td>The Songs of Adelaide &amp; Abullah</td>\n",
       "      <td>Poetry</td>\n",
       "      <td>Publishing</td>\n",
       "      <td>GBP</td>\n",
       "      <td>10/9/2015</td>\n",
       "      <td>1000</td>\n",
       "      <td>8/11/2015 12:12</td>\n",
       "      <td>0</td>\n",
       "      <td>0</td>\n",
       "      <td>GB</td>\n",
       "      <td>0</td>\n",
       "      <td>0</td>\n",
       "      <td>9237</td>\n",
       "    </tr>\n",
       "    <tr>\n",
       "      <th>2</th>\n",
       "      <td>1000003930</td>\n",
       "      <td>Greeting From Earth: ZGAC Arts Capsule For ET</td>\n",
       "      <td>Narrative Film</td>\n",
       "      <td>Film &amp; Video</td>\n",
       "      <td>USD</td>\n",
       "      <td>11/1/2017</td>\n",
       "      <td>30000</td>\n",
       "      <td>9/2/2017 4:43</td>\n",
       "      <td>24896</td>\n",
       "      <td>670</td>\n",
       "      <td>US</td>\n",
       "      <td>231</td>\n",
       "      <td>41682</td>\n",
       "      <td>23175</td>\n",
       "    </tr>\n",
       "    <tr>\n",
       "      <th>3</th>\n",
       "      <td>1000004038</td>\n",
       "      <td>Where is Hank?</td>\n",
       "      <td>Narrative Film</td>\n",
       "      <td>Film &amp; Video</td>\n",
       "      <td>USD</td>\n",
       "      <td>2/26/2013</td>\n",
       "      <td>45000</td>\n",
       "      <td>1/12/2013 0:20</td>\n",
       "      <td>22380</td>\n",
       "      <td>2018</td>\n",
       "      <td>US</td>\n",
       "      <td>34037</td>\n",
       "      <td>37381</td>\n",
       "      <td>32144</td>\n",
       "    </tr>\n",
       "    <tr>\n",
       "      <th>4</th>\n",
       "      <td>1000007540</td>\n",
       "      <td>ToshiCapital Rekordz Needs Help to Complete Album</td>\n",
       "      <td>Music</td>\n",
       "      <td>Music</td>\n",
       "      <td>USD</td>\n",
       "      <td>4/16/2012</td>\n",
       "      <td>5000</td>\n",
       "      <td>3/17/2012 3:24</td>\n",
       "      <td>1</td>\n",
       "      <td>1</td>\n",
       "      <td>US</td>\n",
       "      <td>52</td>\n",
       "      <td>54</td>\n",
       "      <td>34537</td>\n",
       "    </tr>\n",
       "    <tr>\n",
       "      <th>5</th>\n",
       "      <td>1000011046</td>\n",
       "      <td>Community Film Project: The Art of Neighborhoo...</td>\n",
       "      <td>Film &amp; Video</td>\n",
       "      <td>Film &amp; Video</td>\n",
       "      <td>USD</td>\n",
       "      <td>8/29/2015</td>\n",
       "      <td>19500</td>\n",
       "      <td>7/4/2015 8:35</td>\n",
       "      <td>7559</td>\n",
       "      <td>550</td>\n",
       "      <td>US</td>\n",
       "      <td>11241</td>\n",
       "      <td>12325</td>\n",
       "      <td>14285</td>\n",
       "    </tr>\n",
       "  </tbody>\n",
       "</table>\n",
       "</div>"
      ],
      "text/plain": [
       "0          ID                                               name  \\\n",
       "1  1000002330                    The Songs of Adelaide & Abullah   \n",
       "2  1000003930      Greeting From Earth: ZGAC Arts Capsule For ET   \n",
       "3  1000004038                                     Where is Hank?   \n",
       "4  1000007540  ToshiCapital Rekordz Needs Help to Complete Album   \n",
       "5  1000011046  Community Film Project: The Art of Neighborhoo...   \n",
       "\n",
       "0        category main_category currency   deadline   goal         launched  \\\n",
       "1          Poetry    Publishing      GBP  10/9/2015   1000  8/11/2015 12:12   \n",
       "2  Narrative Film  Film & Video      USD  11/1/2017  30000    9/2/2017 4:43   \n",
       "3  Narrative Film  Film & Video      USD  2/26/2013  45000   1/12/2013 0:20   \n",
       "4           Music         Music      USD  4/16/2012   5000   3/17/2012 3:24   \n",
       "5    Film & Video  Film & Video      USD  8/29/2015  19500    7/4/2015 8:35   \n",
       "\n",
       "0  pledged  backers country  usd_pledged  usd_pledged_real  usd_goal_real  \n",
       "1        0        0      GB            0                 0           9237  \n",
       "2    24896      670      US          231             41682          23175  \n",
       "3    22380     2018      US        34037             37381          32144  \n",
       "4        1        1      US           52                54          34537  \n",
       "5     7559      550      US        11241             12325          14285  "
      ]
     },
     "execution_count": 16,
     "metadata": {},
     "output_type": "execute_result"
    }
   ],
   "source": [
    "print('Test data shape: ', test.shape)\n",
    "test.head(5)"
   ]
  },
  {
   "cell_type": "code",
   "execution_count": 17,
   "metadata": {},
   "outputs": [
    {
     "data": {
      "text/plain": [
       "374860"
      ]
     },
     "execution_count": 17,
     "metadata": {},
     "output_type": "execute_result"
    }
   ],
   "source": [
    "train[\"state\"].size"
   ]
  },
  {
   "cell_type": "code",
   "execution_count": 18,
   "metadata": {},
   "outputs": [
    {
     "data": {
      "text/plain": [
       "failed        197611\n",
       "successful    133851\n",
       "canceled       38757\n",
       "live            2798\n",
       "suspended       1843\n",
       "Name: state, dtype: int64"
      ]
     },
     "execution_count": 18,
     "metadata": {},
     "output_type": "execute_result"
    }
   ],
   "source": [
    "train[\"state\"].value_counts()"
   ]
  },
  {
   "cell_type": "code",
   "execution_count": 19,
   "metadata": {},
   "outputs": [
    {
     "data": {
      "text/plain": [
       "failed        52.715947\n",
       "successful    35.706931\n",
       "canceled      10.339060\n",
       "live           0.746412\n",
       "suspended      0.491650\n",
       "Name: state, dtype: float64"
      ]
     },
     "execution_count": 19,
     "metadata": {},
     "output_type": "execute_result"
    }
   ],
   "source": [
    "# Normalize can be set to True to print proportions instead of number \n",
    "train[\"state\"].value_counts(normalize=True)*100"
   ]
  },
  {
   "cell_type": "code",
   "execution_count": 20,
   "metadata": {},
   "outputs": [
    {
     "data": {
      "text/plain": [
       "<AxesSubplot:title={'center':'State'}>"
      ]
     },
     "execution_count": 20,
     "metadata": {},
     "output_type": "execute_result"
    },
    {
     "data": {
      "image/png": "[encoded data removed]",
      "text/plain": [
       "<Figure size 432x288 with 1 Axes>"
      ]
     },
     "metadata": {
      "needs_background": "light"
     },
     "output_type": "display_data"
    }
   ],
   "source": [
    "train[\"state\"].value_counts(normalize=True).plot.bar(title = 'State')"
   ]
  },
  {
   "cell_type": "code",
   "execution_count": 21,
   "metadata": {},
   "outputs": [
    {
     "data": {
      "text/plain": [
       "Film & Video    62696\n",
       "Music           49530\n",
       "Publishing      39379\n",
       "Games           35225\n",
       "Technology      32562\n",
       "Design          30066\n",
       "Art             28152\n",
       "Food            24599\n",
       "Fashion         22812\n",
       "Theater         10912\n",
       "Comics          10819\n",
       "Photography     10778\n",
       "Crafts           8809\n",
       "Journalism       4754\n",
       "Dance            3767\n",
       "Name: main_category, dtype: int64"
      ]
     },
     "execution_count": 21,
     "metadata": {},
     "output_type": "execute_result"
    }
   ],
   "source": [
    "train[\"main_category\"].value_counts()"
   ]
  },
  {
   "cell_type": "code",
   "execution_count": 22,
   "metadata": {},
   "outputs": [
    {
     "data": {
      "text/plain": [
       "Film & Video    16.725177\n",
       "Music           13.212933\n",
       "Publishing      10.504989\n",
       "Games            9.396841\n",
       "Technology       8.686443\n",
       "Design           8.020594\n",
       "Art              7.510004\n",
       "Food             6.562183\n",
       "Fashion          6.085472\n",
       "Theater          2.910953\n",
       "Comics           2.886144\n",
       "Photography      2.875207\n",
       "Crafts           2.349944\n",
       "Journalism       1.268207\n",
       "Dance            1.004908\n",
       "Name: main_category, dtype: float64"
      ]
     },
     "execution_count": 22,
     "metadata": {},
     "output_type": "execute_result"
    }
   ],
   "source": [
    "train['main_category'].value_counts(normalize=True)*100"
   ]
  },
  {
   "cell_type": "code",
   "execution_count": 23,
   "metadata": {
    "scrolled": true
   },
   "outputs": [
    {
     "data": {
      "text/plain": [
       "<AxesSubplot:title={'center':'Main Category'}>"
      ]
     },
     "execution_count": 23,
     "metadata": {},
     "output_type": "execute_result"
    },
    {
     "data": {
      "image/png": "[encoded data removed]",
      "text/plain": [
       "<Figure size 432x288 with 1 Axes>"
      ]
     },
     "metadata": {
      "needs_background": "light"
     },
     "output_type": "display_data"
    }
   ],
   "source": [
    "train['main_category'].value_counts(normalize=True).plot.bar(title= 'Main Category')"
   ]
  },
  {
   "cell_type": "code",
   "execution_count": 24,
   "metadata": {
    "scrolled": true
   },
   "outputs": [
    {
     "data": {
      "text/plain": [
       "US    292624\n",
       "GB     33671\n",
       "CA     14756\n",
       "AU      7839\n",
       "DE      4171\n",
       "FR      2939\n",
       "IT      2878\n",
       "NL      2868\n",
       "ES      2276\n",
       "SE      1757\n",
       "MX      1752\n",
       "NZ      1447\n",
       "DK      1113\n",
       "IE       811\n",
       "CH       761\n",
       "NO       708\n",
       "HK       618\n",
       "BE       617\n",
       "AT       597\n",
       "SG       555\n",
       "LU        62\n",
       "JP        40\n",
       "Name: country, dtype: int64"
      ]
     },
     "execution_count": 24,
     "metadata": {},
     "output_type": "execute_result"
    }
   ],
   "source": [
    "train[\"country\"].value_counts()"
   ]
  },
  {
   "cell_type": "code",
   "execution_count": 25,
   "metadata": {
    "scrolled": true
   },
   "outputs": [
    {
     "data": {
      "text/plain": [
       "US    78.062210\n",
       "GB     8.982287\n",
       "CA     3.936403\n",
       "AU     2.091181\n",
       "DE     1.112682\n",
       "FR     0.784026\n",
       "IT     0.767753\n",
       "NL     0.765086\n",
       "ES     0.607160\n",
       "SE     0.468708\n",
       "MX     0.467374\n",
       "NZ     0.386011\n",
       "DK     0.296911\n",
       "IE     0.216347\n",
       "CH     0.203009\n",
       "NO     0.188871\n",
       "HK     0.164862\n",
       "BE     0.164595\n",
       "AT     0.159259\n",
       "SG     0.148055\n",
       "LU     0.016540\n",
       "JP     0.010671\n",
       "Name: country, dtype: float64"
      ]
     },
     "execution_count": 25,
     "metadata": {},
     "output_type": "execute_result"
    }
   ],
   "source": [
    "train['country'].value_counts(normalize=True)*100"
   ]
  },
  {
   "cell_type": "code",
   "execution_count": 33,
   "metadata": {},
   "outputs": [
    {
     "data": {
      "text/plain": [
       "<AxesSubplot:title={'center':'Country'}>"
      ]
     },
     "execution_count": 33,
     "metadata": {},
     "output_type": "execute_result"
    },
    {
     "data": {
      "image/png": "[encoded data removed]",
      "text/plain": [
       "<Figure size 432x288 with 1 Axes>"
      ]
     },
     "metadata": {
      "needs_background": "light"
     },
     "output_type": "display_data"
    }
   ],
   "source": [
    "train['country'].value_counts(normalize=True).plot.bar(title= 'Country')\n"
   ]
  },
  {
   "cell_type": "code",
   "execution_count": 34,
   "metadata": {},
   "outputs": [
    {
     "data": {
      "text/plain": [
       "USD    292624\n",
       "GBP     33671\n",
       "EUR     17219\n",
       "CAD     14756\n",
       "AUD      7839\n",
       "SEK      1757\n",
       "MXN      1752\n",
       "NZD      1447\n",
       "DKK      1113\n",
       "CHF       761\n",
       "NOK       708\n",
       "HKD       618\n",
       "SGD       555\n",
       "JPY        40\n",
       "Name: currency, dtype: int64"
      ]
     },
     "execution_count": 34,
     "metadata": {},
     "output_type": "execute_result"
    }
   ],
   "source": [
    "train[\"currency\"].value_counts()"
   ]
  },
  {
   "cell_type": "code",
   "execution_count": 35,
   "metadata": {},
   "outputs": [
    {
     "data": {
      "text/plain": [
       "USD    78.062210\n",
       "GBP     8.982287\n",
       "EUR     4.593448\n",
       "CAD     3.936403\n",
       "AUD     2.091181\n",
       "SEK     0.468708\n",
       "MXN     0.467374\n",
       "NZD     0.386011\n",
       "DKK     0.296911\n",
       "CHF     0.203009\n",
       "NOK     0.188871\n",
       "HKD     0.164862\n",
       "SGD     0.148055\n",
       "JPY     0.010671\n",
       "Name: currency, dtype: float64"
      ]
     },
     "execution_count": 35,
     "metadata": {},
     "output_type": "execute_result"
    }
   ],
   "source": [
    "train['currency'].value_counts(normalize=True)*100"
   ]
  },
  {
   "cell_type": "code",
   "execution_count": 36,
   "metadata": {},
   "outputs": [
    {
     "data": {
      "text/plain": [
       "<AxesSubplot:title={'center':'Currency'}>"
      ]
     },
     "execution_count": 36,
     "metadata": {},
     "output_type": "execute_result"
    },
    {
     "data": {
      "image/png": "[encoded data removed]",
      "text/plain": [
       "<Figure size 432x288 with 1 Axes>"
      ]
     },
     "metadata": {
      "needs_background": "light"
     },
     "output_type": "display_data"
    }
   ],
   "source": [
    "train['currency'].value_counts(normalize=True).plot.bar(title= 'Currency')"
   ]
  },
  {
   "cell_type": "code",
   "execution_count": 25,
   "metadata": {},
   "outputs": [],
   "source": [
    "# Worldwide Pledged"
   ]
  },
  {
   "cell_type": "code",
   "execution_count": 26,
   "metadata": {},
   "outputs": [
    {
     "data": {
      "image/png": "[encoded data removed]",
      "text/plain": [
       "<Figure size 1152x360 with 2 Axes>"
      ]
     },
     "metadata": {
      "needs_background": "light"
     },
     "output_type": "display_data"
    }
   ],
   "source": [
    "plt.figure(1)\n",
    "plt.subplot(121)\n",
    "sns.distplot(train[\"pledged\"]);\n",
    "\n",
    "plt.subplot(122)\n",
    "train[\"pledged\"].plot.box(figsize=(16,5))\n",
    "plt.show()"
   ]
  },
  {
   "cell_type": "code",
   "execution_count": 27,
   "metadata": {},
   "outputs": [],
   "source": [
    "# US Pledged"
   ]
  },
  {
   "cell_type": "code",
   "execution_count": 28,
   "metadata": {},
   "outputs": [
    {
     "data": {
      "image/png": "[encoded data removed]",
      "text/plain": [
       "<Figure size 1152x360 with 2 Axes>"
      ]
     },
     "metadata": {
      "needs_background": "light"
     },
     "output_type": "display_data"
    }
   ],
   "source": [
    "plt.figure(1)\n",
    "plt.subplot(121)\n",
    "df=train.dropna()\n",
    "sns.distplot(df['usd_pledged_real']);\n",
    "\n",
    "plt.subplot(122)\n",
    "train['usd_pledged_real'].plot.box(figsize=(16,5))\n",
    "\n",
    "plt.show()"
   ]
  },
  {
   "cell_type": "code",
   "execution_count": 29,
   "metadata": {},
   "outputs": [
    {
     "data": {
      "text/plain": [
       "failed        197611\n",
       "successful    133851\n",
       "canceled       38757\n",
       "live            2798\n",
       "suspended       1843\n",
       "Name: state, dtype: int64"
      ]
     },
     "execution_count": 29,
     "metadata": {},
     "output_type": "execute_result"
    }
   ],
   "source": [
    "df7[\"state\"].value_counts()"
   ]
  },
  {
   "cell_type": "code",
   "execution_count": 30,
   "metadata": {},
   "outputs": [
    {
     "name": "stdout",
     "output_type": "stream",
     "text": [
      "state          canceled  failed  live  successful  suspended\n",
      "main_category                                               \n",
      "Art                2222   14130   194       11510         96\n",
      "Comics              842    4036    76        5842         23\n",
      "Crafts              843    5703    76        2115         72\n",
      "Dance               163    1235    18        2338         13\n",
      "Design             4152   14814   305       10549        246\n",
      "Fashion            2650   14181   250        5593        138\n",
      "Film & Video       5744   32891   332       23612        117\n",
      "Food               2209   15969   183        6085        153\n",
      "Games              6199   16002   287       12518        219\n",
      "Journalism          523    3136    31        1012         52\n",
      "Music              3300   21696   281       24105        148\n",
      "Photography         986    6384    48        3305         55\n",
      "Publishing         3601   23113   299       12300         66\n",
      "Technology         4715   20613   377        6433        424\n",
      "Theater             608    3708    41        6534         21\n"
     ]
    },
    {
     "data": {
      "image/png": "[encoded data removed]",
      "text/plain": [
       "<Figure size 720x576 with 1 Axes>"
      ]
     },
     "metadata": {
      "needs_background": "light"
     },
     "output_type": "display_data"
    }
   ],
   "source": [
    "print(pd.crosstab(train[\"main_category\"],train[\"state\"]))\n",
    "main_category = pd.crosstab(train[\"main_category\"],train[\"state\"])\n",
    "main_category.div(main_category.sum(1).astype(float),axis=0).plot(kind=\"bar\",stacked=True,figsize=(10,8))\n",
    "plt.xlabel(\"main_category\")\n",
    "plt.ylabel(\"State\")\n",
    "#plt.legend(['Faild', 'Successful', 'Canceled', 'Live', 'Suspended'], bbox_to_anchor=(0, 1), loc='upper left', ncol=1)\n",
    "plt.show()"
   ]
  },
  {
   "cell_type": "code",
   "execution_count": 31,
   "metadata": {},
   "outputs": [
    {
     "name": "stdout",
     "output_type": "stream",
     "text": [
      "state          canceled  failed  live  successful  suspended\n",
      "main_category                                               \n",
      "Art                2222   14130   194       11510         96\n",
      "Comics              842    4036    76        5842         23\n",
      "Crafts              843    5703    76        2115         72\n",
      "Dance               163    1235    18        2338         13\n",
      "Design             4152   14814   305       10549        246\n",
      "Fashion            2650   14181   250        5593        138\n",
      "Film & Video       5744   32891   332       23612        117\n",
      "Food               2209   15969   183        6085        153\n",
      "Games              6199   16002   287       12518        219\n",
      "Journalism          523    3136    31        1012         52\n",
      "Music              3300   21696   281       24105        148\n",
      "Photography         986    6384    48        3305         55\n",
      "Publishing         3601   23113   299       12300         66\n",
      "Technology         4715   20613   377        6433        424\n",
      "Theater             608    3708    41        6534         21\n"
     ]
    },
    {
     "data": {
      "image/png": "[encoded data removed]",
      "text/plain": [
       "<Figure size 720x576 with 1 Axes>"
      ]
     },
     "metadata": {
      "needs_background": "light"
     },
     "output_type": "display_data"
    }
   ],
   "source": [
    "print(pd.crosstab(train[\"main_category\"],train[\"state\"]))\n",
    "main_category = pd.crosstab(train[\"main_category\"],train[\"state\"])\n",
    "main_category.div(main_category.sum(1).astype(float),axis=0).plot(kind=\"line\",figsize=(10,8))\n",
    "plt.xlabel(\"main_category\")\n",
    "plt.ylabel(\"State\")\n",
    "#plt.legend(['Faild', 'Successful', 'Canceled', 'Live', 'Suspended'], bbox_to_anchor=(0, 1), loc='upper left', ncol=1)\n",
    "plt.show()"
   ]
  },
  {
   "cell_type": "code",
   "execution_count": 32,
   "metadata": {},
   "outputs": [],
   "source": [
    "# Bin Analysis"
   ]
  },
  {
   "cell_type": "code",
   "execution_count": 33,
   "metadata": {},
   "outputs": [],
   "source": [
    "bins = [0,1000,3000,42000]\n",
    "group=['Low','Average','High']\n",
    "train[\"backers_bin\"]=pd.cut(df[\"backers\"],bins,labels=group)"
   ]
  },
  {
   "cell_type": "code",
   "execution_count": 34,
   "metadata": {},
   "outputs": [
    {
     "name": "stdout",
     "output_type": "stream",
     "text": [
      "state        canceled  failed  live  successful  suspended\n",
      "backers_bin                                               \n",
      "Low              8877   52660   742       33171        435\n",
      "Average         12802   78453  1064       64058        582\n",
      "High             5065   27861   444       36622        213\n"
     ]
    },
    {
     "data": {
      "image/png": "[encoded data removed]",
      "text/plain": [
       "<Figure size 792x360 with 1 Axes>"
      ]
     },
     "metadata": {
      "needs_background": "light"
     },
     "output_type": "display_data"
    }
   ],
   "source": [
    "print(pd.crosstab(train[\"backers_bin\"],train[\"state\"]))\n",
    "backers_bin = pd.crosstab(train[\"backers_bin\"],train[\"state\"])\n",
    "backers_bin.div(backers_bin.sum(1).astype(float),axis=0).plot(kind='bar',stacked=True,figsize=(11,5))\n",
    "plt.xlabel(\"Backers\")\n",
    "plt.ylabel(\"Percentage\")\n",
    "plt.show()"
   ]
  },
  {
   "cell_type": "code",
   "execution_count": 35,
   "metadata": {},
   "outputs": [],
   "source": [
    "bins = [0,1000,3000,42000]\n",
    "group=['Low','Average','High']\n",
    "train[\"usd_pledged_real_bin\"]=pd.cut(df[\"pledged\"],bins,labels=group)"
   ]
  },
  {
   "cell_type": "code",
   "execution_count": 36,
   "metadata": {},
   "outputs": [
    {
     "name": "stdout",
     "output_type": "stream",
     "text": [
      "state                 canceled  failed  live  successful  suspended\n",
      "usd_pledged_real_bin                                               \n",
      "Low                       2003   16791   153        3906        139\n",
      "Average                    587    3092    60        5201         26\n",
      "High                     15925   91659  1340       80488        692\n"
     ]
    },
    {
     "data": {
      "image/png": "[encoded data removed]",
      "text/plain": [
       "<Figure size 792x360 with 1 Axes>"
      ]
     },
     "metadata": {
      "needs_background": "light"
     },
     "output_type": "display_data"
    }
   ],
   "source": [
    "print(pd.crosstab(train[\"usd_pledged_real_bin\"],train[\"state\"]))\n",
    "usd_pledged_real_bin = pd.crosstab(train[\"usd_pledged_real_bin\"],train[\"state\"])\n",
    "usd_pledged_real_bin.div(usd_pledged_real_bin.sum(1).astype(float),axis=0).plot(kind='bar',stacked=True,figsize=(11,5))\n",
    "plt.xlabel(\"usd_pledged_real\")\n",
    "plt.ylabel(\"Percentage\")\n",
    "plt.show()"
   ]
  },
  {
   "cell_type": "code",
   "execution_count": 37,
   "metadata": {},
   "outputs": [],
   "source": [
    "bins = [0,2500,4000,6000, 85000]\n",
    "group=['Low','Average','High', 'Very High']\n",
    "train[\"pledged_bin\"]=pd.cut(df[\"pledged\"],bins,labels=group)"
   ]
  },
  {
   "cell_type": "code",
   "execution_count": 38,
   "metadata": {},
   "outputs": [
    {
     "name": "stdout",
     "output_type": "stream",
     "text": [
      "state        canceled  failed  live  successful  suspended\n",
      "pledged_bin                                               \n",
      "Low              2445   19197   193        7941        160\n",
      "Average           624    4012    61        3479         34\n",
      "High              775    4230    56        4131         34\n",
      "Very High       22900  131538  1940      118300       1002\n"
     ]
    },
    {
     "data": {
      "image/png": "[encoded data removed]",
      "text/plain": [
       "<Figure size 792x360 with 1 Axes>"
      ]
     },
     "metadata": {
      "needs_background": "light"
     },
     "output_type": "display_data"
    }
   ],
   "source": [
    "print(pd.crosstab(train[\"pledged_bin\"],train[\"state\"]))\n",
    "pledged_bin = pd.crosstab(train[\"pledged_bin\"],train[\"state\"])\n",
    "pledged_bin.div(pledged_bin.sum(1).astype(float),axis=0).plot(kind='bar',stacked=True,figsize=(11,5))\n",
    "plt.xlabel(\"Pledged\")\n",
    "plt.ylabel(\"Percentage\")\n",
    "plt.show()"
   ]
  },
  {
   "cell_type": "code",
   "execution_count": 39,
   "metadata": {},
   "outputs": [],
   "source": [
    "bins = [0,25,100,250,500]\n",
    "group=['Low','Average','High', 'Very High']\n",
    "train[\"backers_bin\"]=pd.cut(df[\"backers\"],bins,labels=group)"
   ]
  },
  {
   "cell_type": "code",
   "execution_count": 40,
   "metadata": {},
   "outputs": [
    {
     "name": "stdout",
     "output_type": "stream",
     "text": [
      "country      AT    AU  BE    CA  CH   DE   DK   ES   FR    GB  ...   IT  JP  \\\n",
      "backers_bin                                                    ...            \n",
      "Low          86  1030  90  1897  95  548  125  331  345  3833  ...  422   3   \n",
      "Average       6    45   5    91   6   22    8   14   24   218  ...   12   0   \n",
      "High         16   186  17   335   8   97   29   46   72   845  ...   56   2   \n",
      "Very High    11   271  23   541  27  165   46   58  134  1366  ...   98   3   \n",
      "\n",
      "country      LU   MX   NL  NO   NZ   SE  SG     US  \n",
      "backers_bin                                         \n",
      "Low           6  286  436  89  183  213  62  30764  \n",
      "Average       0    0   17   3    6   11   6   2334  \n",
      "High          0   33   52  12   23   46  10   8018  \n",
      "Very High     2   46   92  20   47   92  23  12805  \n",
      "\n",
      "[4 rows x 22 columns]\n"
     ]
    },
    {
     "data": {
      "image/png": "[encoded data removed]",
      "text/plain": [
       "<Figure size 792x360 with 1 Axes>"
      ]
     },
     "metadata": {
      "needs_background": "light"
     },
     "output_type": "display_data"
    }
   ],
   "source": [
    "print(pd.crosstab(train[\"backers_bin\"],train[\"country\"]))\n",
    "backers_bin = pd.crosstab(train[\"backers_bin\"],train[\"country\"])\n",
    "backers_bin.div(backers_bin.sum(1).astype(float),axis=0).plot(kind='bar',stacked=True,figsize=(11,5))\n",
    "plt.xlabel(\"Backers\")\n",
    "plt.ylabel(\"Percentage\")\n",
    "plt.show()"
   ]
  },
  {
   "cell_type": "code",
   "execution_count": 41,
   "metadata": {},
   "outputs": [],
   "source": [
    "bins = [0,25,100,250,500]\n",
    "group=['Low','Average','High', 'Very High']\n",
    "train[\"usd_pledged_real_bin\"]=pd.cut(df[\"usd_pledged_real\"],bins,labels=group)"
   ]
  },
  {
   "cell_type": "code",
   "execution_count": 42,
   "metadata": {},
   "outputs": [
    {
     "name": "stdout",
     "output_type": "stream",
     "text": [
      "country               AT   AU  BE   CA  CH   DE  DK   ES   FR   GB  ...   IT  \\\n",
      "usd_pledged_real_bin                                                ...        \n",
      "Low                    0   14   0    2   0    0   2    0    0    0  ...    0   \n",
      "Average               21  251  30  510  35  147  32  111  103  332  ...  142   \n",
      "High                   4   88   3  136  14   29   9   18   11  655  ...   27   \n",
      "Very High              1   15   1   27   5    8   2    4    5   60  ...    4   \n",
      "\n",
      "country               JP  LU  MX   NL  NO  NZ  SE  SG    US  \n",
      "usd_pledged_real_bin                                         \n",
      "Low                    0   0  88    0  25  23  67   0     0  \n",
      "Average                2   3  27  144  14  20  23   9  6588  \n",
      "High                   1   0  22   15  10  13  17   1  6061  \n",
      "Very High              0   0   1    1   0   2   1   0  1142  \n",
      "\n",
      "[4 rows x 22 columns]\n"
     ]
    },
    {
     "data": {
      "image/png": "[encoded data removed]",
      "text/plain": [
       "<Figure size 792x360 with 1 Axes>"
      ]
     },
     "metadata": {
      "needs_background": "light"
     },
     "output_type": "display_data"
    }
   ],
   "source": [
    "print(pd.crosstab(train[\"usd_pledged_real_bin\"],train[\"country\"]))\n",
    "usd_pledged_real_bin = pd.crosstab(train[\"usd_pledged_real_bin\"],train[\"country\"])\n",
    "usd_pledged_real_bin.div(usd_pledged_real_bin.sum(1).astype(float),axis=0).plot(kind='bar',stacked=True,figsize=(11,5))\n",
    "plt.xlabel(\"usd_pledged_real\")\n",
    "plt.ylabel(\"Percentage\")\n",
    "plt.show()"
   ]
  },
  {
   "cell_type": "code",
   "execution_count": 43,
   "metadata": {},
   "outputs": [],
   "source": [
    "bins = [0,25,100,250,500]\n",
    "group=['Low','Average','High', 'Very High']\n",
    "train[\"pledged_bin\"]=pd.cut(df[\"pledged\"],bins,labels=group)"
   ]
  },
  {
   "cell_type": "code",
   "execution_count": 44,
   "metadata": {},
   "outputs": [
    {
     "name": "stdout",
     "output_type": "stream",
     "text": [
      "country      AT   AU  BE   CA  CH   DE  DK   ES   FR   GB  ...   IT  JP  LU  \\\n",
      "pledged_bin                                                ...                \n",
      "Low          21  250  30  510  35  147   0  111  103  909  ...  142   0   3   \n",
      "Average      14  192  17  370  21  105  34   63   56  827  ...   93   2   1   \n",
      "High          0   17   1   23   1    5   1    2    3   71  ...    4   0   0   \n",
      "Very High     5   43   3   63   4   18   5   13   15  152  ...   12   0   0   \n",
      "\n",
      "country       MX   NL  NO  NZ  SE  SG    US  \n",
      "pledged_bin                                  \n",
      "Low            0  144   0  37   0   0  6599  \n",
      "Average      148   69  18  46  52   8  6784  \n",
      "High           1    9   0   0   0   1   541  \n",
      "Very High      9   10   4  14   9   2  1483  \n",
      "\n",
      "[4 rows x 22 columns]\n"
     ]
    },
    {
     "data": {
      "image/png": "[encoded data removed]",
      "text/plain": [
       "<Figure size 792x360 with 1 Axes>"
      ]
     },
     "metadata": {
      "needs_background": "light"
     },
     "output_type": "display_data"
    }
   ],
   "source": [
    "print(pd.crosstab(train[\"pledged_bin\"],train[\"country\"]))\n",
    "pledged_bin = pd.crosstab(train[\"pledged_bin\"],train[\"country\"])\n",
    "pledged_bin.div(pledged_bin.sum(1).astype(float),axis=0).plot(kind='bar',stacked=True,figsize=(11,5))\n",
    "plt.xlabel(\"usd_pledged_real\")\n",
    "plt.ylabel(\"Percentage\")\n",
    "plt.show()"
   ]
  },
  {
   "cell_type": "code",
   "execution_count": 87,
   "metadata": {
    "scrolled": false
   },
   "outputs": [],
   "source": [
    "# train=train.drop([\"backers_bin\",\"usd_pledged_real_bin\",\"pledged_bin\"],axis=1)\n",
    "# test=test.drop([\"backers_bin\",\"usd_pledged_real_bin\",\"pledged_bin\"],axis=1)"
   ]
  },
  {
   "cell_type": "code",
   "execution_count": 46,
   "metadata": {
    "scrolled": false
   },
   "outputs": [
    {
     "data": {
      "image/png": "[encoded data removed]",
      "text/plain": [
       "<Figure size 864x864 with 2 Axes>"
      ]
     },
     "metadata": {
      "needs_background": "light"
     },
     "output_type": "display_data"
    }
   ],
   "source": [
    "matrix = train.corr()\n",
    "f, ax = plt.subplots(figsize=(12, 12))\n",
    "sns.heatmap(matrix, vmax=.9, square=True, cmap=\"BuPu\",annot=True);"
   ]
  },
  {
   "cell_type": "code",
   "execution_count": 47,
   "metadata": {},
   "outputs": [
    {
     "data": {
      "text/plain": [
       "0\n",
       "ID                  0\n",
       "name                0\n",
       "category            0\n",
       "main_category       0\n",
       "currency            0\n",
       "deadline            0\n",
       "goal                0\n",
       "launched            0\n",
       "pledged             0\n",
       "state               0\n",
       "backers             0\n",
       "country             0\n",
       "usd_pledged         0\n",
       "usd_pledged_real    0\n",
       "usd_goal_real       0\n",
       "dtype: int64"
      ]
     },
     "execution_count": 47,
     "metadata": {},
     "output_type": "execute_result"
    }
   ],
   "source": [
    "train.isnull().sum()"
   ]
  },
  {
   "cell_type": "code",
   "execution_count": 48,
   "metadata": {},
   "outputs": [
    {
     "data": {
      "text/plain": [
       "0\n",
       "ID                  0\n",
       "name                0\n",
       "category            0\n",
       "main_category       0\n",
       "currency            0\n",
       "deadline            0\n",
       "goal                0\n",
       "launched            0\n",
       "pledged             0\n",
       "backers             0\n",
       "country             0\n",
       "usd_pledged         0\n",
       "usd_pledged_real    0\n",
       "usd_goal_real       0\n",
       "dtype: int64"
      ]
     },
     "execution_count": 48,
     "metadata": {},
     "output_type": "execute_result"
    }
   ],
   "source": [
    "test.isnull().sum()"
   ]
  },
  {
   "cell_type": "code",
   "execution_count": 49,
   "metadata": {},
   "outputs": [
    {
     "data": {
      "text/plain": [
       "<AxesSubplot:>"
      ]
     },
     "execution_count": 49,
     "metadata": {},
     "output_type": "execute_result"
    },
    {
     "data": {
      "image/png": "[encoded data removed]",
      "text/plain": [
       "<Figure size 432x288 with 1 Axes>"
      ]
     },
     "metadata": {
      "needs_background": "light"
     },
     "output_type": "display_data"
    }
   ],
   "source": [
    "train['state'].hist(bins=10)"
   ]
  },
  {
   "cell_type": "code",
   "execution_count": 50,
   "metadata": {},
   "outputs": [],
   "source": [
    "# Modeling"
   ]
  },
  {
   "cell_type": "code",
   "execution_count": 51,
   "metadata": {},
   "outputs": [],
   "source": [
    "train=train.drop(columns = [\"ID\", \"name\"],axis=1).sample(20000)\n",
    "test=test.drop(columns = [\"ID\", \"name\"],axis=1).sample(20000)"
   ]
  },
  {
   "cell_type": "code",
   "execution_count": 52,
   "metadata": {
    "scrolled": true
   },
   "outputs": [
    {
     "data": {
      "text/html": [
       "<div>\n",
       "<style scoped>\n",
       "    .dataframe tbody tr th:only-of-type {\n",
       "        vertical-align: middle;\n",
       "    }\n",
       "\n",
       "    .dataframe tbody tr th {\n",
       "        vertical-align: top;\n",
       "    }\n",
       "\n",
       "    .dataframe thead th {\n",
       "        text-align: right;\n",
       "    }\n",
       "</style>\n",
       "<table border=\"1\" class=\"dataframe\">\n",
       "  <thead>\n",
       "    <tr style=\"text-align: right;\">\n",
       "      <th></th>\n",
       "      <th>category</th>\n",
       "      <th>main_category</th>\n",
       "      <th>currency</th>\n",
       "      <th>deadline</th>\n",
       "      <th>goal</th>\n",
       "      <th>launched</th>\n",
       "      <th>pledged</th>\n",
       "      <th>state</th>\n",
       "      <th>backers</th>\n",
       "      <th>country</th>\n",
       "      <th>usd_pledged</th>\n",
       "      <th>usd_pledged_real</th>\n",
       "      <th>usd_goal_real</th>\n",
       "    </tr>\n",
       "  </thead>\n",
       "  <tbody>\n",
       "    <tr>\n",
       "      <th>366409</th>\n",
       "      <td>Country &amp; Folk</td>\n",
       "      <td>Music</td>\n",
       "      <td>USD</td>\n",
       "      <td>10/21/2012</td>\n",
       "      <td>5500</td>\n",
       "      <td>9/21/2012 21:06</td>\n",
       "      <td>54047</td>\n",
       "      <td>failed</td>\n",
       "      <td>792</td>\n",
       "      <td>US</td>\n",
       "      <td>82423</td>\n",
       "      <td>91182</td>\n",
       "      <td>36674</td>\n",
       "    </tr>\n",
       "    <tr>\n",
       "      <th>102108</th>\n",
       "      <td>Webseries</td>\n",
       "      <td>Film &amp; Video</td>\n",
       "      <td>CAD</td>\n",
       "      <td>4/11/2014</td>\n",
       "      <td>3000</td>\n",
       "      <td>3/13/2014 20:44</td>\n",
       "      <td>33312</td>\n",
       "      <td>successful</td>\n",
       "      <td>3282</td>\n",
       "      <td>CA</td>\n",
       "      <td>45736</td>\n",
       "      <td>50886</td>\n",
       "      <td>21357</td>\n",
       "    </tr>\n",
       "    <tr>\n",
       "      <th>243585</th>\n",
       "      <td>Food</td>\n",
       "      <td>Food</td>\n",
       "      <td>GBP</td>\n",
       "      <td>12/27/2016</td>\n",
       "      <td>10000</td>\n",
       "      <td>11/27/2016 22:10</td>\n",
       "      <td>2547</td>\n",
       "      <td>successful</td>\n",
       "      <td>288</td>\n",
       "      <td>GB</td>\n",
       "      <td>6507</td>\n",
       "      <td>13769</td>\n",
       "      <td>4751</td>\n",
       "    </tr>\n",
       "  </tbody>\n",
       "</table>\n",
       "</div>"
      ],
      "text/plain": [
       "0             category main_category currency    deadline   goal  \\\n",
       "366409  Country & Folk         Music      USD  10/21/2012   5500   \n",
       "102108       Webseries  Film & Video      CAD   4/11/2014   3000   \n",
       "243585            Food          Food      GBP  12/27/2016  10000   \n",
       "\n",
       "0               launched  pledged       state  backers country  usd_pledged  \\\n",
       "366409   9/21/2012 21:06    54047      failed      792      US        82423   \n",
       "102108   3/13/2014 20:44    33312  successful     3282      CA        45736   \n",
       "243585  11/27/2016 22:10     2547  successful      288      GB         6507   \n",
       "\n",
       "0       usd_pledged_real  usd_goal_real  \n",
       "366409             91182          36674  \n",
       "102108             50886          21357  \n",
       "243585             13769           4751  "
      ]
     },
     "execution_count": 52,
     "metadata": {},
     "output_type": "execute_result"
    }
   ],
   "source": [
    "train.head(3)"
   ]
  },
  {
   "cell_type": "code",
   "execution_count": 53,
   "metadata": {},
   "outputs": [
    {
     "data": {
      "text/html": [
       "<div>\n",
       "<style scoped>\n",
       "    .dataframe tbody tr th:only-of-type {\n",
       "        vertical-align: middle;\n",
       "    }\n",
       "\n",
       "    .dataframe tbody tr th {\n",
       "        vertical-align: top;\n",
       "    }\n",
       "\n",
       "    .dataframe thead th {\n",
       "        text-align: right;\n",
       "    }\n",
       "</style>\n",
       "<table border=\"1\" class=\"dataframe\">\n",
       "  <thead>\n",
       "    <tr style=\"text-align: right;\">\n",
       "      <th></th>\n",
       "      <th>category</th>\n",
       "      <th>main_category</th>\n",
       "      <th>currency</th>\n",
       "      <th>deadline</th>\n",
       "      <th>goal</th>\n",
       "      <th>launched</th>\n",
       "      <th>pledged</th>\n",
       "      <th>backers</th>\n",
       "      <th>country</th>\n",
       "      <th>usd_pledged</th>\n",
       "      <th>usd_pledged_real</th>\n",
       "      <th>usd_goal_real</th>\n",
       "    </tr>\n",
       "  </thead>\n",
       "  <tbody>\n",
       "    <tr>\n",
       "      <th>78822</th>\n",
       "      <td>Crafts</td>\n",
       "      <td>Crafts</td>\n",
       "      <td>GBP</td>\n",
       "      <td>9/21/2014</td>\n",
       "      <td>500</td>\n",
       "      <td>8/22/2014 18:38</td>\n",
       "      <td>0</td>\n",
       "      <td>0</td>\n",
       "      <td>GB</td>\n",
       "      <td>0</td>\n",
       "      <td>0</td>\n",
       "      <td>45681</td>\n",
       "    </tr>\n",
       "    <tr>\n",
       "      <th>79892</th>\n",
       "      <td>Film &amp; Video</td>\n",
       "      <td>Film &amp; Video</td>\n",
       "      <td>USD</td>\n",
       "      <td>3/23/2014</td>\n",
       "      <td>5000</td>\n",
       "      <td>3/3/2014 14:27</td>\n",
       "      <td>0</td>\n",
       "      <td>0</td>\n",
       "      <td>US</td>\n",
       "      <td>0</td>\n",
       "      <td>0</td>\n",
       "      <td>34537</td>\n",
       "    </tr>\n",
       "    <tr>\n",
       "      <th>30759</th>\n",
       "      <td>Apparel</td>\n",
       "      <td>Fashion</td>\n",
       "      <td>EUR</td>\n",
       "      <td>7/6/2016</td>\n",
       "      <td>3500</td>\n",
       "      <td>5/11/2016 18:19</td>\n",
       "      <td>0</td>\n",
       "      <td>0</td>\n",
       "      <td>ES</td>\n",
       "      <td>0</td>\n",
       "      <td>0</td>\n",
       "      <td>28904</td>\n",
       "    </tr>\n",
       "  </tbody>\n",
       "</table>\n",
       "</div>"
      ],
      "text/plain": [
       "0          category main_category currency   deadline  goal         launched  \\\n",
       "78822        Crafts        Crafts      GBP  9/21/2014   500  8/22/2014 18:38   \n",
       "79892  Film & Video  Film & Video      USD  3/23/2014  5000   3/3/2014 14:27   \n",
       "30759       Apparel       Fashion      EUR   7/6/2016  3500  5/11/2016 18:19   \n",
       "\n",
       "0      pledged  backers country  usd_pledged  usd_pledged_real  usd_goal_real  \n",
       "78822        0        0      GB            0                 0          45681  \n",
       "79892        0        0      US            0                 0          34537  \n",
       "30759        0        0      ES            0                 0          28904  "
      ]
     },
     "execution_count": 53,
     "metadata": {},
     "output_type": "execute_result"
    }
   ],
   "source": [
    "test.head(3)"
   ]
  },
  {
   "cell_type": "code",
   "execution_count": 54,
   "metadata": {},
   "outputs": [],
   "source": [
    "X=train.drop(\"state\",1)"
   ]
  },
  {
   "cell_type": "code",
   "execution_count": 55,
   "metadata": {},
   "outputs": [],
   "source": [
    "y=train[[\"state\"]]"
   ]
  },
  {
   "cell_type": "code",
   "execution_count": 56,
   "metadata": {},
   "outputs": [
    {
     "data": {
      "text/html": [
       "<div>\n",
       "<style scoped>\n",
       "    .dataframe tbody tr th:only-of-type {\n",
       "        vertical-align: middle;\n",
       "    }\n",
       "\n",
       "    .dataframe tbody tr th {\n",
       "        vertical-align: top;\n",
       "    }\n",
       "\n",
       "    .dataframe thead th {\n",
       "        text-align: right;\n",
       "    }\n",
       "</style>\n",
       "<table border=\"1\" class=\"dataframe\">\n",
       "  <thead>\n",
       "    <tr style=\"text-align: right;\">\n",
       "      <th></th>\n",
       "      <th>state</th>\n",
       "    </tr>\n",
       "  </thead>\n",
       "  <tbody>\n",
       "    <tr>\n",
       "      <th>366409</th>\n",
       "      <td>failed</td>\n",
       "    </tr>\n",
       "    <tr>\n",
       "      <th>102108</th>\n",
       "      <td>successful</td>\n",
       "    </tr>\n",
       "    <tr>\n",
       "      <th>243585</th>\n",
       "      <td>successful</td>\n",
       "    </tr>\n",
       "    <tr>\n",
       "      <th>97344</th>\n",
       "      <td>failed</td>\n",
       "    </tr>\n",
       "    <tr>\n",
       "      <th>356531</th>\n",
       "      <td>failed</td>\n",
       "    </tr>\n",
       "  </tbody>\n",
       "</table>\n",
       "</div>"
      ],
      "text/plain": [
       "0            state\n",
       "366409      failed\n",
       "102108  successful\n",
       "243585  successful\n",
       "97344       failed\n",
       "356531      failed"
      ]
     },
     "execution_count": 56,
     "metadata": {},
     "output_type": "execute_result"
    }
   ],
   "source": [
    "y.head(5)"
   ]
  },
  {
   "cell_type": "code",
   "execution_count": 57,
   "metadata": {},
   "outputs": [],
   "source": [
    "X = pd.get_dummies(X)"
   ]
  },
  {
   "cell_type": "code",
   "execution_count": 58,
   "metadata": {},
   "outputs": [
    {
     "data": {
      "text/html": [
       "<div>\n",
       "<style scoped>\n",
       "    .dataframe tbody tr th:only-of-type {\n",
       "        vertical-align: middle;\n",
       "    }\n",
       "\n",
       "    .dataframe tbody tr th {\n",
       "        vertical-align: top;\n",
       "    }\n",
       "\n",
       "    .dataframe thead th {\n",
       "        text-align: right;\n",
       "    }\n",
       "</style>\n",
       "<table border=\"1\" class=\"dataframe\">\n",
       "  <thead>\n",
       "    <tr style=\"text-align: right;\">\n",
       "      <th></th>\n",
       "      <th>pledged</th>\n",
       "      <th>backers</th>\n",
       "      <th>usd_pledged</th>\n",
       "      <th>usd_pledged_real</th>\n",
       "      <th>usd_goal_real</th>\n",
       "      <th>category_3D Printing</th>\n",
       "      <th>category_Academic</th>\n",
       "      <th>category_Accessories</th>\n",
       "      <th>category_Action</th>\n",
       "      <th>category_Animals</th>\n",
       "      <th>...</th>\n",
       "      <th>country_IT</th>\n",
       "      <th>country_JP</th>\n",
       "      <th>country_LU</th>\n",
       "      <th>country_MX</th>\n",
       "      <th>country_NL</th>\n",
       "      <th>country_NO</th>\n",
       "      <th>country_NZ</th>\n",
       "      <th>country_SE</th>\n",
       "      <th>country_SG</th>\n",
       "      <th>country_US</th>\n",
       "    </tr>\n",
       "  </thead>\n",
       "  <tbody>\n",
       "    <tr>\n",
       "      <th>366409</th>\n",
       "      <td>54047</td>\n",
       "      <td>792</td>\n",
       "      <td>82423</td>\n",
       "      <td>91182</td>\n",
       "      <td>36674</td>\n",
       "      <td>0</td>\n",
       "      <td>0</td>\n",
       "      <td>0</td>\n",
       "      <td>0</td>\n",
       "      <td>0</td>\n",
       "      <td>...</td>\n",
       "      <td>0</td>\n",
       "      <td>0</td>\n",
       "      <td>0</td>\n",
       "      <td>0</td>\n",
       "      <td>0</td>\n",
       "      <td>0</td>\n",
       "      <td>0</td>\n",
       "      <td>0</td>\n",
       "      <td>0</td>\n",
       "      <td>1</td>\n",
       "    </tr>\n",
       "    <tr>\n",
       "      <th>102108</th>\n",
       "      <td>33312</td>\n",
       "      <td>3282</td>\n",
       "      <td>45736</td>\n",
       "      <td>50886</td>\n",
       "      <td>21357</td>\n",
       "      <td>0</td>\n",
       "      <td>0</td>\n",
       "      <td>0</td>\n",
       "      <td>0</td>\n",
       "      <td>0</td>\n",
       "      <td>...</td>\n",
       "      <td>0</td>\n",
       "      <td>0</td>\n",
       "      <td>0</td>\n",
       "      <td>0</td>\n",
       "      <td>0</td>\n",
       "      <td>0</td>\n",
       "      <td>0</td>\n",
       "      <td>0</td>\n",
       "      <td>0</td>\n",
       "      <td>0</td>\n",
       "    </tr>\n",
       "    <tr>\n",
       "      <th>243585</th>\n",
       "      <td>2547</td>\n",
       "      <td>288</td>\n",
       "      <td>6507</td>\n",
       "      <td>13769</td>\n",
       "      <td>4751</td>\n",
       "      <td>0</td>\n",
       "      <td>0</td>\n",
       "      <td>0</td>\n",
       "      <td>0</td>\n",
       "      <td>0</td>\n",
       "      <td>...</td>\n",
       "      <td>0</td>\n",
       "      <td>0</td>\n",
       "      <td>0</td>\n",
       "      <td>0</td>\n",
       "      <td>0</td>\n",
       "      <td>0</td>\n",
       "      <td>0</td>\n",
       "      <td>0</td>\n",
       "      <td>0</td>\n",
       "      <td>0</td>\n",
       "    </tr>\n",
       "    <tr>\n",
       "      <th>97344</th>\n",
       "      <td>19229</td>\n",
       "      <td>2</td>\n",
       "      <td>29760</td>\n",
       "      <td>32601</td>\n",
       "      <td>23170</td>\n",
       "      <td>0</td>\n",
       "      <td>0</td>\n",
       "      <td>0</td>\n",
       "      <td>0</td>\n",
       "      <td>0</td>\n",
       "      <td>...</td>\n",
       "      <td>0</td>\n",
       "      <td>0</td>\n",
       "      <td>0</td>\n",
       "      <td>0</td>\n",
       "      <td>0</td>\n",
       "      <td>0</td>\n",
       "      <td>0</td>\n",
       "      <td>0</td>\n",
       "      <td>0</td>\n",
       "      <td>1</td>\n",
       "    </tr>\n",
       "    <tr>\n",
       "      <th>356531</th>\n",
       "      <td>37586</td>\n",
       "      <td>2</td>\n",
       "      <td>24408</td>\n",
       "      <td>62740</td>\n",
       "      <td>41910</td>\n",
       "      <td>0</td>\n",
       "      <td>0</td>\n",
       "      <td>0</td>\n",
       "      <td>0</td>\n",
       "      <td>0</td>\n",
       "      <td>...</td>\n",
       "      <td>0</td>\n",
       "      <td>0</td>\n",
       "      <td>0</td>\n",
       "      <td>0</td>\n",
       "      <td>0</td>\n",
       "      <td>0</td>\n",
       "      <td>0</td>\n",
       "      <td>0</td>\n",
       "      <td>0</td>\n",
       "      <td>1</td>\n",
       "    </tr>\n",
       "  </tbody>\n",
       "</table>\n",
       "<p>5 rows × 24202 columns</p>\n",
       "</div>"
      ],
      "text/plain": [
       "        pledged  backers  usd_pledged  usd_pledged_real  usd_goal_real  \\\n",
       "366409    54047      792        82423             91182          36674   \n",
       "102108    33312     3282        45736             50886          21357   \n",
       "243585     2547      288         6507             13769           4751   \n",
       "97344     19229        2        29760             32601          23170   \n",
       "356531    37586        2        24408             62740          41910   \n",
       "\n",
       "        category_3D Printing  category_Academic  category_Accessories  \\\n",
       "366409                     0                  0                     0   \n",
       "102108                     0                  0                     0   \n",
       "243585                     0                  0                     0   \n",
       "97344                      0                  0                     0   \n",
       "356531                     0                  0                     0   \n",
       "\n",
       "        category_Action  category_Animals  ...  country_IT  country_JP  \\\n",
       "366409                0                 0  ...           0           0   \n",
       "102108                0                 0  ...           0           0   \n",
       "243585                0                 0  ...           0           0   \n",
       "97344                 0                 0  ...           0           0   \n",
       "356531                0                 0  ...           0           0   \n",
       "\n",
       "        country_LU  country_MX  country_NL  country_NO  country_NZ  \\\n",
       "366409           0           0           0           0           0   \n",
       "102108           0           0           0           0           0   \n",
       "243585           0           0           0           0           0   \n",
       "97344            0           0           0           0           0   \n",
       "356531           0           0           0           0           0   \n",
       "\n",
       "        country_SE  country_SG  country_US  \n",
       "366409           0           0           1  \n",
       "102108           0           0           0  \n",
       "243585           0           0           0  \n",
       "97344            0           0           1  \n",
       "356531           0           0           1  \n",
       "\n",
       "[5 rows x 24202 columns]"
      ]
     },
     "execution_count": 58,
     "metadata": {},
     "output_type": "execute_result"
    }
   ],
   "source": [
    "X.head(5)"
   ]
  },
  {
   "cell_type": "code",
   "execution_count": 59,
   "metadata": {},
   "outputs": [],
   "source": [
    "train=pd.get_dummies(train)\n",
    "test=pd.get_dummies(test)"
   ]
  },
  {
   "cell_type": "code",
   "execution_count": 60,
   "metadata": {
    "scrolled": true
   },
   "outputs": [
    {
     "data": {
      "text/html": [
       "<div>\n",
       "<style scoped>\n",
       "    .dataframe tbody tr th:only-of-type {\n",
       "        vertical-align: middle;\n",
       "    }\n",
       "\n",
       "    .dataframe tbody tr th {\n",
       "        vertical-align: top;\n",
       "    }\n",
       "\n",
       "    .dataframe thead th {\n",
       "        text-align: right;\n",
       "    }\n",
       "</style>\n",
       "<table border=\"1\" class=\"dataframe\">\n",
       "  <thead>\n",
       "    <tr style=\"text-align: right;\">\n",
       "      <th></th>\n",
       "      <th>pledged</th>\n",
       "      <th>backers</th>\n",
       "      <th>usd_pledged</th>\n",
       "      <th>usd_pledged_real</th>\n",
       "      <th>usd_goal_real</th>\n",
       "      <th>category_3D Printing</th>\n",
       "      <th>category_Academic</th>\n",
       "      <th>category_Accessories</th>\n",
       "      <th>category_Action</th>\n",
       "      <th>category_Animals</th>\n",
       "      <th>...</th>\n",
       "      <th>country_IT</th>\n",
       "      <th>country_JP</th>\n",
       "      <th>country_LU</th>\n",
       "      <th>country_MX</th>\n",
       "      <th>country_NL</th>\n",
       "      <th>country_NO</th>\n",
       "      <th>country_NZ</th>\n",
       "      <th>country_SE</th>\n",
       "      <th>country_SG</th>\n",
       "      <th>country_US</th>\n",
       "    </tr>\n",
       "  </thead>\n",
       "  <tbody>\n",
       "    <tr>\n",
       "      <th>366409</th>\n",
       "      <td>54047</td>\n",
       "      <td>792</td>\n",
       "      <td>82423</td>\n",
       "      <td>91182</td>\n",
       "      <td>36674</td>\n",
       "      <td>0</td>\n",
       "      <td>0</td>\n",
       "      <td>0</td>\n",
       "      <td>0</td>\n",
       "      <td>0</td>\n",
       "      <td>...</td>\n",
       "      <td>0</td>\n",
       "      <td>0</td>\n",
       "      <td>0</td>\n",
       "      <td>0</td>\n",
       "      <td>0</td>\n",
       "      <td>0</td>\n",
       "      <td>0</td>\n",
       "      <td>0</td>\n",
       "      <td>0</td>\n",
       "      <td>1</td>\n",
       "    </tr>\n",
       "    <tr>\n",
       "      <th>102108</th>\n",
       "      <td>33312</td>\n",
       "      <td>3282</td>\n",
       "      <td>45736</td>\n",
       "      <td>50886</td>\n",
       "      <td>21357</td>\n",
       "      <td>0</td>\n",
       "      <td>0</td>\n",
       "      <td>0</td>\n",
       "      <td>0</td>\n",
       "      <td>0</td>\n",
       "      <td>...</td>\n",
       "      <td>0</td>\n",
       "      <td>0</td>\n",
       "      <td>0</td>\n",
       "      <td>0</td>\n",
       "      <td>0</td>\n",
       "      <td>0</td>\n",
       "      <td>0</td>\n",
       "      <td>0</td>\n",
       "      <td>0</td>\n",
       "      <td>0</td>\n",
       "    </tr>\n",
       "    <tr>\n",
       "      <th>243585</th>\n",
       "      <td>2547</td>\n",
       "      <td>288</td>\n",
       "      <td>6507</td>\n",
       "      <td>13769</td>\n",
       "      <td>4751</td>\n",
       "      <td>0</td>\n",
       "      <td>0</td>\n",
       "      <td>0</td>\n",
       "      <td>0</td>\n",
       "      <td>0</td>\n",
       "      <td>...</td>\n",
       "      <td>0</td>\n",
       "      <td>0</td>\n",
       "      <td>0</td>\n",
       "      <td>0</td>\n",
       "      <td>0</td>\n",
       "      <td>0</td>\n",
       "      <td>0</td>\n",
       "      <td>0</td>\n",
       "      <td>0</td>\n",
       "      <td>0</td>\n",
       "    </tr>\n",
       "    <tr>\n",
       "      <th>97344</th>\n",
       "      <td>19229</td>\n",
       "      <td>2</td>\n",
       "      <td>29760</td>\n",
       "      <td>32601</td>\n",
       "      <td>23170</td>\n",
       "      <td>0</td>\n",
       "      <td>0</td>\n",
       "      <td>0</td>\n",
       "      <td>0</td>\n",
       "      <td>0</td>\n",
       "      <td>...</td>\n",
       "      <td>0</td>\n",
       "      <td>0</td>\n",
       "      <td>0</td>\n",
       "      <td>0</td>\n",
       "      <td>0</td>\n",
       "      <td>0</td>\n",
       "      <td>0</td>\n",
       "      <td>0</td>\n",
       "      <td>0</td>\n",
       "      <td>1</td>\n",
       "    </tr>\n",
       "    <tr>\n",
       "      <th>356531</th>\n",
       "      <td>37586</td>\n",
       "      <td>2</td>\n",
       "      <td>24408</td>\n",
       "      <td>62740</td>\n",
       "      <td>41910</td>\n",
       "      <td>0</td>\n",
       "      <td>0</td>\n",
       "      <td>0</td>\n",
       "      <td>0</td>\n",
       "      <td>0</td>\n",
       "      <td>...</td>\n",
       "      <td>0</td>\n",
       "      <td>0</td>\n",
       "      <td>0</td>\n",
       "      <td>0</td>\n",
       "      <td>0</td>\n",
       "      <td>0</td>\n",
       "      <td>0</td>\n",
       "      <td>0</td>\n",
       "      <td>0</td>\n",
       "      <td>1</td>\n",
       "    </tr>\n",
       "    <tr>\n",
       "      <th>...</th>\n",
       "      <td>...</td>\n",
       "      <td>...</td>\n",
       "      <td>...</td>\n",
       "      <td>...</td>\n",
       "      <td>...</td>\n",
       "      <td>...</td>\n",
       "      <td>...</td>\n",
       "      <td>...</td>\n",
       "      <td>...</td>\n",
       "      <td>...</td>\n",
       "      <td>...</td>\n",
       "      <td>...</td>\n",
       "      <td>...</td>\n",
       "      <td>...</td>\n",
       "      <td>...</td>\n",
       "      <td>...</td>\n",
       "      <td>...</td>\n",
       "      <td>...</td>\n",
       "      <td>...</td>\n",
       "      <td>...</td>\n",
       "      <td>...</td>\n",
       "    </tr>\n",
       "    <tr>\n",
       "      <th>237164</th>\n",
       "      <td>33361</td>\n",
       "      <td>2388</td>\n",
       "      <td>50369</td>\n",
       "      <td>55577</td>\n",
       "      <td>13086</td>\n",
       "      <td>0</td>\n",
       "      <td>0</td>\n",
       "      <td>0</td>\n",
       "      <td>0</td>\n",
       "      <td>0</td>\n",
       "      <td>...</td>\n",
       "      <td>0</td>\n",
       "      <td>0</td>\n",
       "      <td>0</td>\n",
       "      <td>0</td>\n",
       "      <td>0</td>\n",
       "      <td>0</td>\n",
       "      <td>0</td>\n",
       "      <td>0</td>\n",
       "      <td>0</td>\n",
       "      <td>1</td>\n",
       "    </tr>\n",
       "    <tr>\n",
       "      <th>133023</th>\n",
       "      <td>1</td>\n",
       "      <td>1</td>\n",
       "      <td>52</td>\n",
       "      <td>54</td>\n",
       "      <td>19526</td>\n",
       "      <td>0</td>\n",
       "      <td>0</td>\n",
       "      <td>0</td>\n",
       "      <td>0</td>\n",
       "      <td>0</td>\n",
       "      <td>...</td>\n",
       "      <td>0</td>\n",
       "      <td>0</td>\n",
       "      <td>0</td>\n",
       "      <td>0</td>\n",
       "      <td>0</td>\n",
       "      <td>0</td>\n",
       "      <td>0</td>\n",
       "      <td>0</td>\n",
       "      <td>0</td>\n",
       "      <td>1</td>\n",
       "    </tr>\n",
       "    <tr>\n",
       "      <th>59140</th>\n",
       "      <td>32199</td>\n",
       "      <td>2242</td>\n",
       "      <td>48721</td>\n",
       "      <td>53702</td>\n",
       "      <td>23170</td>\n",
       "      <td>0</td>\n",
       "      <td>0</td>\n",
       "      <td>0</td>\n",
       "      <td>0</td>\n",
       "      <td>0</td>\n",
       "      <td>...</td>\n",
       "      <td>0</td>\n",
       "      <td>0</td>\n",
       "      <td>0</td>\n",
       "      <td>0</td>\n",
       "      <td>0</td>\n",
       "      <td>0</td>\n",
       "      <td>0</td>\n",
       "      <td>0</td>\n",
       "      <td>0</td>\n",
       "      <td>1</td>\n",
       "    </tr>\n",
       "    <tr>\n",
       "      <th>375955</th>\n",
       "      <td>39367</td>\n",
       "      <td>3189</td>\n",
       "      <td>69220</td>\n",
       "      <td>73611</td>\n",
       "      <td>7842</td>\n",
       "      <td>0</td>\n",
       "      <td>0</td>\n",
       "      <td>0</td>\n",
       "      <td>0</td>\n",
       "      <td>0</td>\n",
       "      <td>...</td>\n",
       "      <td>0</td>\n",
       "      <td>0</td>\n",
       "      <td>0</td>\n",
       "      <td>0</td>\n",
       "      <td>0</td>\n",
       "      <td>0</td>\n",
       "      <td>0</td>\n",
       "      <td>0</td>\n",
       "      <td>0</td>\n",
       "      <td>0</td>\n",
       "    </tr>\n",
       "    <tr>\n",
       "      <th>53533</th>\n",
       "      <td>19216</td>\n",
       "      <td>1</td>\n",
       "      <td>52086</td>\n",
       "      <td>56167</td>\n",
       "      <td>3727</td>\n",
       "      <td>0</td>\n",
       "      <td>0</td>\n",
       "      <td>0</td>\n",
       "      <td>0</td>\n",
       "      <td>0</td>\n",
       "      <td>...</td>\n",
       "      <td>0</td>\n",
       "      <td>0</td>\n",
       "      <td>0</td>\n",
       "      <td>0</td>\n",
       "      <td>0</td>\n",
       "      <td>0</td>\n",
       "      <td>0</td>\n",
       "      <td>0</td>\n",
       "      <td>0</td>\n",
       "      <td>0</td>\n",
       "    </tr>\n",
       "  </tbody>\n",
       "</table>\n",
       "<p>20000 rows × 24207 columns</p>\n",
       "</div>"
      ],
      "text/plain": [
       "        pledged  backers  usd_pledged  usd_pledged_real  usd_goal_real  \\\n",
       "366409    54047      792        82423             91182          36674   \n",
       "102108    33312     3282        45736             50886          21357   \n",
       "243585     2547      288         6507             13769           4751   \n",
       "97344     19229        2        29760             32601          23170   \n",
       "356531    37586        2        24408             62740          41910   \n",
       "...         ...      ...          ...               ...            ...   \n",
       "237164    33361     2388        50369             55577          13086   \n",
       "133023        1        1           52                54          19526   \n",
       "59140     32199     2242        48721             53702          23170   \n",
       "375955    39367     3189        69220             73611           7842   \n",
       "53533     19216        1        52086             56167           3727   \n",
       "\n",
       "        category_3D Printing  category_Academic  category_Accessories  \\\n",
       "366409                     0                  0                     0   \n",
       "102108                     0                  0                     0   \n",
       "243585                     0                  0                     0   \n",
       "97344                      0                  0                     0   \n",
       "356531                     0                  0                     0   \n",
       "...                      ...                ...                   ...   \n",
       "237164                     0                  0                     0   \n",
       "133023                     0                  0                     0   \n",
       "59140                      0                  0                     0   \n",
       "375955                     0                  0                     0   \n",
       "53533                      0                  0                     0   \n",
       "\n",
       "        category_Action  category_Animals  ...  country_IT  country_JP  \\\n",
       "366409                0                 0  ...           0           0   \n",
       "102108                0                 0  ...           0           0   \n",
       "243585                0                 0  ...           0           0   \n",
       "97344                 0                 0  ...           0           0   \n",
       "356531                0                 0  ...           0           0   \n",
       "...                 ...               ...  ...         ...         ...   \n",
       "237164                0                 0  ...           0           0   \n",
       "133023                0                 0  ...           0           0   \n",
       "59140                 0                 0  ...           0           0   \n",
       "375955                0                 0  ...           0           0   \n",
       "53533                 0                 0  ...           0           0   \n",
       "\n",
       "        country_LU  country_MX  country_NL  country_NO  country_NZ  \\\n",
       "366409           0           0           0           0           0   \n",
       "102108           0           0           0           0           0   \n",
       "243585           0           0           0           0           0   \n",
       "97344            0           0           0           0           0   \n",
       "356531           0           0           0           0           0   \n",
       "...            ...         ...         ...         ...         ...   \n",
       "237164           0           0           0           0           0   \n",
       "133023           0           0           0           0           0   \n",
       "59140            0           0           0           0           0   \n",
       "375955           0           0           0           0           0   \n",
       "53533            0           0           0           0           0   \n",
       "\n",
       "        country_SE  country_SG  country_US  \n",
       "366409           0           0           1  \n",
       "102108           0           0           0  \n",
       "243585           0           0           0  \n",
       "97344            0           0           1  \n",
       "356531           0           0           1  \n",
       "...            ...         ...         ...  \n",
       "237164           0           0           1  \n",
       "133023           0           0           1  \n",
       "59140            0           0           1  \n",
       "375955           0           0           0  \n",
       "53533            0           0           0  \n",
       "\n",
       "[20000 rows x 24207 columns]"
      ]
     },
     "execution_count": 60,
     "metadata": {},
     "output_type": "execute_result"
    }
   ],
   "source": [
    "train"
   ]
  },
  {
   "cell_type": "code",
   "execution_count": 61,
   "metadata": {},
   "outputs": [
    {
     "data": {
      "text/html": [
       "<div>\n",
       "<style scoped>\n",
       "    .dataframe tbody tr th:only-of-type {\n",
       "        vertical-align: middle;\n",
       "    }\n",
       "\n",
       "    .dataframe tbody tr th {\n",
       "        vertical-align: top;\n",
       "    }\n",
       "\n",
       "    .dataframe thead th {\n",
       "        text-align: right;\n",
       "    }\n",
       "</style>\n",
       "<table border=\"1\" class=\"dataframe\">\n",
       "  <thead>\n",
       "    <tr style=\"text-align: right;\">\n",
       "      <th></th>\n",
       "      <th>pledged</th>\n",
       "      <th>backers</th>\n",
       "      <th>usd_pledged</th>\n",
       "      <th>usd_pledged_real</th>\n",
       "      <th>usd_goal_real</th>\n",
       "      <th>category_3D Printing</th>\n",
       "      <th>category_Academic</th>\n",
       "      <th>category_Accessories</th>\n",
       "      <th>category_Action</th>\n",
       "      <th>category_Animals</th>\n",
       "      <th>...</th>\n",
       "      <th>country_IT</th>\n",
       "      <th>country_JP</th>\n",
       "      <th>country_LU</th>\n",
       "      <th>country_MX</th>\n",
       "      <th>country_NL</th>\n",
       "      <th>country_NO</th>\n",
       "      <th>country_NZ</th>\n",
       "      <th>country_SE</th>\n",
       "      <th>country_SG</th>\n",
       "      <th>country_US</th>\n",
       "    </tr>\n",
       "  </thead>\n",
       "  <tbody>\n",
       "    <tr>\n",
       "      <th>78822</th>\n",
       "      <td>0</td>\n",
       "      <td>0</td>\n",
       "      <td>0</td>\n",
       "      <td>0</td>\n",
       "      <td>45681</td>\n",
       "      <td>0</td>\n",
       "      <td>0</td>\n",
       "      <td>0</td>\n",
       "      <td>0</td>\n",
       "      <td>0</td>\n",
       "      <td>...</td>\n",
       "      <td>0</td>\n",
       "      <td>0</td>\n",
       "      <td>0</td>\n",
       "      <td>0</td>\n",
       "      <td>0</td>\n",
       "      <td>0</td>\n",
       "      <td>0</td>\n",
       "      <td>0</td>\n",
       "      <td>0</td>\n",
       "      <td>0</td>\n",
       "    </tr>\n",
       "    <tr>\n",
       "      <th>79892</th>\n",
       "      <td>0</td>\n",
       "      <td>0</td>\n",
       "      <td>0</td>\n",
       "      <td>0</td>\n",
       "      <td>34537</td>\n",
       "      <td>0</td>\n",
       "      <td>0</td>\n",
       "      <td>0</td>\n",
       "      <td>0</td>\n",
       "      <td>0</td>\n",
       "      <td>...</td>\n",
       "      <td>0</td>\n",
       "      <td>0</td>\n",
       "      <td>0</td>\n",
       "      <td>0</td>\n",
       "      <td>0</td>\n",
       "      <td>0</td>\n",
       "      <td>0</td>\n",
       "      <td>0</td>\n",
       "      <td>0</td>\n",
       "      <td>1</td>\n",
       "    </tr>\n",
       "    <tr>\n",
       "      <th>30759</th>\n",
       "      <td>0</td>\n",
       "      <td>0</td>\n",
       "      <td>0</td>\n",
       "      <td>0</td>\n",
       "      <td>28904</td>\n",
       "      <td>0</td>\n",
       "      <td>0</td>\n",
       "      <td>0</td>\n",
       "      <td>0</td>\n",
       "      <td>0</td>\n",
       "      <td>...</td>\n",
       "      <td>0</td>\n",
       "      <td>0</td>\n",
       "      <td>0</td>\n",
       "      <td>0</td>\n",
       "      <td>0</td>\n",
       "      <td>0</td>\n",
       "      <td>0</td>\n",
       "      <td>0</td>\n",
       "      <td>0</td>\n",
       "      <td>0</td>\n",
       "    </tr>\n",
       "    <tr>\n",
       "      <th>282964</th>\n",
       "      <td>26833</td>\n",
       "      <td>152</td>\n",
       "      <td>17112</td>\n",
       "      <td>44828</td>\n",
       "      <td>34527</td>\n",
       "      <td>0</td>\n",
       "      <td>0</td>\n",
       "      <td>0</td>\n",
       "      <td>0</td>\n",
       "      <td>0</td>\n",
       "      <td>...</td>\n",
       "      <td>0</td>\n",
       "      <td>0</td>\n",
       "      <td>0</td>\n",
       "      <td>0</td>\n",
       "      <td>0</td>\n",
       "      <td>0</td>\n",
       "      <td>0</td>\n",
       "      <td>0</td>\n",
       "      <td>0</td>\n",
       "      <td>1</td>\n",
       "    </tr>\n",
       "    <tr>\n",
       "      <th>339817</th>\n",
       "      <td>19216</td>\n",
       "      <td>1229</td>\n",
       "      <td>0</td>\n",
       "      <td>37324</td>\n",
       "      <td>39170</td>\n",
       "      <td>0</td>\n",
       "      <td>0</td>\n",
       "      <td>0</td>\n",
       "      <td>0</td>\n",
       "      <td>0</td>\n",
       "      <td>...</td>\n",
       "      <td>0</td>\n",
       "      <td>0</td>\n",
       "      <td>0</td>\n",
       "      <td>0</td>\n",
       "      <td>0</td>\n",
       "      <td>0</td>\n",
       "      <td>0</td>\n",
       "      <td>0</td>\n",
       "      <td>0</td>\n",
       "      <td>0</td>\n",
       "    </tr>\n",
       "    <tr>\n",
       "      <th>...</th>\n",
       "      <td>...</td>\n",
       "      <td>...</td>\n",
       "      <td>...</td>\n",
       "      <td>...</td>\n",
       "      <td>...</td>\n",
       "      <td>...</td>\n",
       "      <td>...</td>\n",
       "      <td>...</td>\n",
       "      <td>...</td>\n",
       "      <td>...</td>\n",
       "      <td>...</td>\n",
       "      <td>...</td>\n",
       "      <td>...</td>\n",
       "      <td>...</td>\n",
       "      <td>...</td>\n",
       "      <td>...</td>\n",
       "      <td>...</td>\n",
       "      <td>...</td>\n",
       "      <td>...</td>\n",
       "      <td>...</td>\n",
       "      <td>...</td>\n",
       "    </tr>\n",
       "    <tr>\n",
       "      <th>223496</th>\n",
       "      <td>46903</td>\n",
       "      <td>3603</td>\n",
       "      <td>71313</td>\n",
       "      <td>78858</td>\n",
       "      <td>34537</td>\n",
       "      <td>0</td>\n",
       "      <td>0</td>\n",
       "      <td>0</td>\n",
       "      <td>0</td>\n",
       "      <td>0</td>\n",
       "      <td>...</td>\n",
       "      <td>0</td>\n",
       "      <td>0</td>\n",
       "      <td>0</td>\n",
       "      <td>0</td>\n",
       "      <td>0</td>\n",
       "      <td>0</td>\n",
       "      <td>0</td>\n",
       "      <td>0</td>\n",
       "      <td>0</td>\n",
       "      <td>1</td>\n",
       "    </tr>\n",
       "    <tr>\n",
       "      <th>82977</th>\n",
       "      <td>42312</td>\n",
       "      <td>2832</td>\n",
       "      <td>38510</td>\n",
       "      <td>81389</td>\n",
       "      <td>27997</td>\n",
       "      <td>0</td>\n",
       "      <td>0</td>\n",
       "      <td>0</td>\n",
       "      <td>0</td>\n",
       "      <td>0</td>\n",
       "      <td>...</td>\n",
       "      <td>0</td>\n",
       "      <td>0</td>\n",
       "      <td>0</td>\n",
       "      <td>0</td>\n",
       "      <td>0</td>\n",
       "      <td>0</td>\n",
       "      <td>0</td>\n",
       "      <td>0</td>\n",
       "      <td>0</td>\n",
       "      <td>0</td>\n",
       "    </tr>\n",
       "    <tr>\n",
       "      <th>121810</th>\n",
       "      <td>59333</td>\n",
       "      <td>301</td>\n",
       "      <td>90926</td>\n",
       "      <td>100438</td>\n",
       "      <td>10846</td>\n",
       "      <td>0</td>\n",
       "      <td>0</td>\n",
       "      <td>0</td>\n",
       "      <td>0</td>\n",
       "      <td>0</td>\n",
       "      <td>...</td>\n",
       "      <td>0</td>\n",
       "      <td>0</td>\n",
       "      <td>0</td>\n",
       "      <td>0</td>\n",
       "      <td>0</td>\n",
       "      <td>0</td>\n",
       "      <td>0</td>\n",
       "      <td>0</td>\n",
       "      <td>0</td>\n",
       "      <td>1</td>\n",
       "    </tr>\n",
       "    <tr>\n",
       "      <th>357745</th>\n",
       "      <td>56792</td>\n",
       "      <td>910</td>\n",
       "      <td>86930</td>\n",
       "      <td>96073</td>\n",
       "      <td>34537</td>\n",
       "      <td>0</td>\n",
       "      <td>0</td>\n",
       "      <td>0</td>\n",
       "      <td>0</td>\n",
       "      <td>0</td>\n",
       "      <td>...</td>\n",
       "      <td>0</td>\n",
       "      <td>0</td>\n",
       "      <td>0</td>\n",
       "      <td>0</td>\n",
       "      <td>0</td>\n",
       "      <td>0</td>\n",
       "      <td>0</td>\n",
       "      <td>0</td>\n",
       "      <td>0</td>\n",
       "      <td>1</td>\n",
       "    </tr>\n",
       "    <tr>\n",
       "      <th>108682</th>\n",
       "      <td>32196</td>\n",
       "      <td>3796</td>\n",
       "      <td>48695</td>\n",
       "      <td>53682</td>\n",
       "      <td>8661</td>\n",
       "      <td>0</td>\n",
       "      <td>0</td>\n",
       "      <td>0</td>\n",
       "      <td>0</td>\n",
       "      <td>0</td>\n",
       "      <td>...</td>\n",
       "      <td>0</td>\n",
       "      <td>0</td>\n",
       "      <td>0</td>\n",
       "      <td>0</td>\n",
       "      <td>0</td>\n",
       "      <td>0</td>\n",
       "      <td>0</td>\n",
       "      <td>0</td>\n",
       "      <td>0</td>\n",
       "      <td>1</td>\n",
       "    </tr>\n",
       "  </tbody>\n",
       "</table>\n",
       "<p>20000 rows × 24188 columns</p>\n",
       "</div>"
      ],
      "text/plain": [
       "        pledged  backers  usd_pledged  usd_pledged_real  usd_goal_real  \\\n",
       "78822         0        0            0                 0          45681   \n",
       "79892         0        0            0                 0          34537   \n",
       "30759         0        0            0                 0          28904   \n",
       "282964    26833      152        17112             44828          34527   \n",
       "339817    19216     1229            0             37324          39170   \n",
       "...         ...      ...          ...               ...            ...   \n",
       "223496    46903     3603        71313             78858          34537   \n",
       "82977     42312     2832        38510             81389          27997   \n",
       "121810    59333      301        90926            100438          10846   \n",
       "357745    56792      910        86930             96073          34537   \n",
       "108682    32196     3796        48695             53682           8661   \n",
       "\n",
       "        category_3D Printing  category_Academic  category_Accessories  \\\n",
       "78822                      0                  0                     0   \n",
       "79892                      0                  0                     0   \n",
       "30759                      0                  0                     0   \n",
       "282964                     0                  0                     0   \n",
       "339817                     0                  0                     0   \n",
       "...                      ...                ...                   ...   \n",
       "223496                     0                  0                     0   \n",
       "82977                      0                  0                     0   \n",
       "121810                     0                  0                     0   \n",
       "357745                     0                  0                     0   \n",
       "108682                     0                  0                     0   \n",
       "\n",
       "        category_Action  category_Animals  ...  country_IT  country_JP  \\\n",
       "78822                 0                 0  ...           0           0   \n",
       "79892                 0                 0  ...           0           0   \n",
       "30759                 0                 0  ...           0           0   \n",
       "282964                0                 0  ...           0           0   \n",
       "339817                0                 0  ...           0           0   \n",
       "...                 ...               ...  ...         ...         ...   \n",
       "223496                0                 0  ...           0           0   \n",
       "82977                 0                 0  ...           0           0   \n",
       "121810                0                 0  ...           0           0   \n",
       "357745                0                 0  ...           0           0   \n",
       "108682                0                 0  ...           0           0   \n",
       "\n",
       "        country_LU  country_MX  country_NL  country_NO  country_NZ  \\\n",
       "78822            0           0           0           0           0   \n",
       "79892            0           0           0           0           0   \n",
       "30759            0           0           0           0           0   \n",
       "282964           0           0           0           0           0   \n",
       "339817           0           0           0           0           0   \n",
       "...            ...         ...         ...         ...         ...   \n",
       "223496           0           0           0           0           0   \n",
       "82977            0           0           0           0           0   \n",
       "121810           0           0           0           0           0   \n",
       "357745           0           0           0           0           0   \n",
       "108682           0           0           0           0           0   \n",
       "\n",
       "        country_SE  country_SG  country_US  \n",
       "78822            0           0           0  \n",
       "79892            0           0           1  \n",
       "30759            0           0           0  \n",
       "282964           0           0           1  \n",
       "339817           0           0           0  \n",
       "...            ...         ...         ...  \n",
       "223496           0           0           1  \n",
       "82977            0           0           0  \n",
       "121810           0           0           1  \n",
       "357745           0           0           1  \n",
       "108682           0           0           1  \n",
       "\n",
       "[20000 rows x 24188 columns]"
      ]
     },
     "execution_count": 61,
     "metadata": {},
     "output_type": "execute_result"
    }
   ],
   "source": [
    "test"
   ]
  },
  {
   "cell_type": "code",
   "execution_count": 62,
   "metadata": {},
   "outputs": [],
   "source": [
    "x_train,x_cv,y_train,y_cv=train_test_split(X,y,test_size=0.40,random_state=1)"
   ]
  },
  {
   "cell_type": "code",
   "execution_count": 63,
   "metadata": {},
   "outputs": [],
   "source": [
    "# Logistic Regression"
   ]
  },
  {
   "cell_type": "code",
   "execution_count": 64,
   "metadata": {},
   "outputs": [],
   "source": [
    "logistic_model = LogisticRegression(random_state=1)"
   ]
  },
  {
   "cell_type": "code",
   "execution_count": 65,
   "metadata": {},
   "outputs": [
    {
     "data": {
      "text/plain": [
       "LogisticRegression(random_state=1)"
      ]
     },
     "execution_count": 65,
     "metadata": {},
     "output_type": "execute_result"
    }
   ],
   "source": [
    "logistic_model.fit(x_train,y_train)"
   ]
  },
  {
   "cell_type": "code",
   "execution_count": 66,
   "metadata": {},
   "outputs": [],
   "source": [
    "pred_cv_logistic=logistic_model.predict(x_cv)"
   ]
  },
  {
   "cell_type": "code",
   "execution_count": 67,
   "metadata": {},
   "outputs": [],
   "source": [
    "score_logistic =accuracy_score(pred_cv_logistic,y_cv)*100 "
   ]
  },
  {
   "cell_type": "code",
   "execution_count": 68,
   "metadata": {},
   "outputs": [
    {
     "data": {
      "text/plain": [
       "54.7875"
      ]
     },
     "execution_count": 68,
     "metadata": {},
     "output_type": "execute_result"
    }
   ],
   "source": [
    "score_logistic"
   ]
  },
  {
   "cell_type": "code",
   "execution_count": 69,
   "metadata": {},
   "outputs": [],
   "source": [
    "#pred_test_tree = tree_model.predict(test)"
   ]
  },
  {
   "cell_type": "code",
   "execution_count": 70,
   "metadata": {},
   "outputs": [],
   "source": [
    "# Random Forest"
   ]
  },
  {
   "cell_type": "code",
   "execution_count": 71,
   "metadata": {},
   "outputs": [],
   "source": [
    "forest_model = RandomForestClassifier(random_state=1,max_depth=10,n_estimators=50)"
   ]
  },
  {
   "cell_type": "code",
   "execution_count": 72,
   "metadata": {},
   "outputs": [
    {
     "data": {
      "text/plain": [
       "RandomForestClassifier(max_depth=10, n_estimators=50, random_state=1)"
      ]
     },
     "execution_count": 72,
     "metadata": {},
     "output_type": "execute_result"
    }
   ],
   "source": [
    "forest_model.fit(x_train,y_train)"
   ]
  },
  {
   "cell_type": "code",
   "execution_count": 73,
   "metadata": {},
   "outputs": [],
   "source": [
    "pred_cv_forest=forest_model.predict(x_cv)"
   ]
  },
  {
   "cell_type": "code",
   "execution_count": 74,
   "metadata": {},
   "outputs": [],
   "source": [
    "score_forest = accuracy_score(pred_cv_forest,y_cv)*100"
   ]
  },
  {
   "cell_type": "code",
   "execution_count": 75,
   "metadata": {},
   "outputs": [
    {
     "data": {
      "text/plain": [
       "53.125"
      ]
     },
     "execution_count": 75,
     "metadata": {},
     "output_type": "execute_result"
    }
   ],
   "source": [
    "score_forest"
   ]
  },
  {
   "cell_type": "code",
   "execution_count": 76,
   "metadata": {},
   "outputs": [],
   "source": [
    "#pred_test_forest=forest_model.predict(test)"
   ]
  },
  {
   "cell_type": "code",
   "execution_count": 77,
   "metadata": {},
   "outputs": [],
   "source": [
    "# Random Forest with Grid-search"
   ]
  },
  {
   "cell_type": "code",
   "execution_count": 78,
   "metadata": {},
   "outputs": [],
   "source": [
    "paramgrid = {'max_depth': list(range(1,20,2)),'n_estimators':list(range(1,200,20))}"
   ]
  },
  {
   "cell_type": "code",
   "execution_count": 79,
   "metadata": {},
   "outputs": [],
   "source": [
    "grid_search = GridSearchCV(RandomForestClassifier(random_state=1),paramgrid)"
   ]
  },
  {
   "cell_type": "code",
   "execution_count": 80,
   "metadata": {},
   "outputs": [
    {
     "data": {
      "text/plain": [
       "GridSearchCV(estimator=RandomForestClassifier(random_state=1),\n",
       "             param_grid={'max_depth': [1, 3, 5, 7, 9, 11, 13, 15, 17, 19],\n",
       "                         'n_estimators': [1, 21, 41, 61, 81, 101, 121, 141, 161,\n",
       "                                          181]})"
      ]
     },
     "execution_count": 80,
     "metadata": {},
     "output_type": "execute_result"
    }
   ],
   "source": [
    "grid_search.fit(x_train,y_train)"
   ]
  },
  {
   "cell_type": "code",
   "execution_count": 81,
   "metadata": {},
   "outputs": [
    {
     "data": {
      "text/plain": [
       "RandomForestClassifier(max_depth=19, n_estimators=21, random_state=1)"
      ]
     },
     "execution_count": 81,
     "metadata": {},
     "output_type": "execute_result"
    }
   ],
   "source": [
    "grid_search.best_estimator_"
   ]
  },
  {
   "cell_type": "code",
   "execution_count": 82,
   "metadata": {},
   "outputs": [],
   "source": [
    "grid_forest_model = RandomForestClassifier(random_state=1,max_depth=3,n_estimators=101)"
   ]
  },
  {
   "cell_type": "code",
   "execution_count": 83,
   "metadata": {},
   "outputs": [
    {
     "data": {
      "text/plain": [
       "RandomForestClassifier(max_depth=3, n_estimators=101, random_state=1)"
      ]
     },
     "execution_count": 83,
     "metadata": {},
     "output_type": "execute_result"
    }
   ],
   "source": [
    "grid_forest_model.fit(x_train,y_train)"
   ]
  },
  {
   "cell_type": "code",
   "execution_count": 84,
   "metadata": {},
   "outputs": [],
   "source": [
    "pred_grid_forest = grid_forest_model.predict(x_cv)"
   ]
  },
  {
   "cell_type": "code",
   "execution_count": 85,
   "metadata": {},
   "outputs": [],
   "source": [
    "score_grid_forest = accuracy_score(pred_grid_forest,y_cv)*100"
   ]
  },
  {
   "cell_type": "code",
   "execution_count": 86,
   "metadata": {},
   "outputs": [
    {
     "data": {
      "text/plain": [
       "53.125"
      ]
     },
     "execution_count": 86,
     "metadata": {},
     "output_type": "execute_result"
    }
   ],
   "source": [
    "score_grid_forest"
   ]
  },
  {
   "cell_type": "code",
   "execution_count": null,
   "metadata": {},
   "outputs": [],
   "source": [
    "#pred_grid_forest_test = grid_forest_model.predict(test)"
   ]
  }
 ],
 "metadata": {
  "kernelspec": {
   "display_name": "Python 3",
   "language": "python",
   "name": "python3"
  },
  "language_info": {
   "codemirror_mode": {
    "name": "ipython",
    "version": 3
   },
   "file_extension": ".py",
   "mimetype": "text/x-python",
   "name": "python",
   "nbconvert_exporter": "python",
   "pygments_lexer": "ipython3",
   "version": "3.8.6"
  }
 },
 "nbformat": 4,
 "nbformat_minor": 4
}
